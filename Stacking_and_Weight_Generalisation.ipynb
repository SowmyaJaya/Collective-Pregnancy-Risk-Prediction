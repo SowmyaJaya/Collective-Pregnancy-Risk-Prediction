{
  "nbformat": 4,
  "nbformat_minor": 0,
  "metadata": {
    "colab": {
      "provenance": []
    },
    "kernelspec": {
      "name": "python3",
      "display_name": "Python 3"
    },
    "language_info": {
      "name": "python"
    }
  },
  "cells": [
    {
      "cell_type": "markdown",
      "source": [
        "## Importing Libraries"
      ],
      "metadata": {
        "id": "Q03tfNyskUfJ"
      }
    },
    {
      "cell_type": "code",
      "execution_count": null,
      "metadata": {
        "id": "R5_7PBq4ITvN"
      },
      "outputs": [],
      "source": [
        "import pandas as pd\n",
        "import numpy as np\n",
        "import matplotlib.pyplot as plt\n",
        "import seaborn as sns\n",
        "from sklearn.preprocessing import StandardScaler\n",
        "from sklearn.utils import resample\n",
        "from tensorflow.keras.utils import to_categorical\n",
        "from tensorflow.keras.callbacks import EarlyStopping\n",
        "from sklearn.metrics import confusion_matrix, classification_report\n",
        "\n",
        "from tensorflow.keras.models import Sequential\n",
        "from tensorflow.keras.layers import Dense, Dropout, BatchNormalization\n",
        "from tensorflow.keras.optimizers import Adam"
      ]
    },
    {
      "cell_type": "markdown",
      "source": [
        "## Loading Dataset_1"
      ],
      "metadata": {
        "id": "7ql9Pcg5kdMZ"
      }
    },
    {
      "cell_type": "code",
      "source": [
        "maternal_data = pd.read_csv(\"/content/Maternal Health Risk Data Set.csv\")\n",
        "maternal_data.head()"
      ],
      "metadata": {
        "colab": {
          "base_uri": "https://localhost:8080/",
          "height": 206
        },
        "id": "rst6KJ66IyL7",
        "outputId": "a68b7d5a-de52-4f88-d046-c6b1dd6bafc3"
      },
      "execution_count": null,
      "outputs": [
        {
          "output_type": "execute_result",
          "data": {
            "text/plain": [
              "   Age  SystolicBP  DiastolicBP    BS  BodyTemp  HeartRate  RiskLevel\n",
              "0   25         130           80  15.0      98.0         86  high risk\n",
              "1   35         140           90  13.0      98.0         70  high risk\n",
              "2   29          90           70   8.0     100.0         80  high risk\n",
              "3   30         140           85   7.0      98.0         70  high risk\n",
              "4   35         120           60   6.1      98.0         76   low risk"
            ],
            "text/html": [
              "\n",
              "  <div id=\"df-2c39cb34-26b2-4079-923c-48a1c24415a9\" class=\"colab-df-container\">\n",
              "    <div>\n",
              "<style scoped>\n",
              "    .dataframe tbody tr th:only-of-type {\n",
              "        vertical-align: middle;\n",
              "    }\n",
              "\n",
              "    .dataframe tbody tr th {\n",
              "        vertical-align: top;\n",
              "    }\n",
              "\n",
              "    .dataframe thead th {\n",
              "        text-align: right;\n",
              "    }\n",
              "</style>\n",
              "<table border=\"1\" class=\"dataframe\">\n",
              "  <thead>\n",
              "    <tr style=\"text-align: right;\">\n",
              "      <th></th>\n",
              "      <th>Age</th>\n",
              "      <th>SystolicBP</th>\n",
              "      <th>DiastolicBP</th>\n",
              "      <th>BS</th>\n",
              "      <th>BodyTemp</th>\n",
              "      <th>HeartRate</th>\n",
              "      <th>RiskLevel</th>\n",
              "    </tr>\n",
              "  </thead>\n",
              "  <tbody>\n",
              "    <tr>\n",
              "      <th>0</th>\n",
              "      <td>25</td>\n",
              "      <td>130</td>\n",
              "      <td>80</td>\n",
              "      <td>15.0</td>\n",
              "      <td>98.0</td>\n",
              "      <td>86</td>\n",
              "      <td>high risk</td>\n",
              "    </tr>\n",
              "    <tr>\n",
              "      <th>1</th>\n",
              "      <td>35</td>\n",
              "      <td>140</td>\n",
              "      <td>90</td>\n",
              "      <td>13.0</td>\n",
              "      <td>98.0</td>\n",
              "      <td>70</td>\n",
              "      <td>high risk</td>\n",
              "    </tr>\n",
              "    <tr>\n",
              "      <th>2</th>\n",
              "      <td>29</td>\n",
              "      <td>90</td>\n",
              "      <td>70</td>\n",
              "      <td>8.0</td>\n",
              "      <td>100.0</td>\n",
              "      <td>80</td>\n",
              "      <td>high risk</td>\n",
              "    </tr>\n",
              "    <tr>\n",
              "      <th>3</th>\n",
              "      <td>30</td>\n",
              "      <td>140</td>\n",
              "      <td>85</td>\n",
              "      <td>7.0</td>\n",
              "      <td>98.0</td>\n",
              "      <td>70</td>\n",
              "      <td>high risk</td>\n",
              "    </tr>\n",
              "    <tr>\n",
              "      <th>4</th>\n",
              "      <td>35</td>\n",
              "      <td>120</td>\n",
              "      <td>60</td>\n",
              "      <td>6.1</td>\n",
              "      <td>98.0</td>\n",
              "      <td>76</td>\n",
              "      <td>low risk</td>\n",
              "    </tr>\n",
              "  </tbody>\n",
              "</table>\n",
              "</div>\n",
              "    <div class=\"colab-df-buttons\">\n",
              "\n",
              "  <div class=\"colab-df-container\">\n",
              "    <button class=\"colab-df-convert\" onclick=\"convertToInteractive('df-2c39cb34-26b2-4079-923c-48a1c24415a9')\"\n",
              "            title=\"Convert this dataframe to an interactive table.\"\n",
              "            style=\"display:none;\">\n",
              "\n",
              "  <svg xmlns=\"http://www.w3.org/2000/svg\" height=\"24px\" viewBox=\"0 -960 960 960\">\n",
              "    <path d=\"M120-120v-720h720v720H120Zm60-500h600v-160H180v160Zm220 220h160v-160H400v160Zm0 220h160v-160H400v160ZM180-400h160v-160H180v160Zm440 0h160v-160H620v160ZM180-180h160v-160H180v160Zm440 0h160v-160H620v160Z\"/>\n",
              "  </svg>\n",
              "    </button>\n",
              "\n",
              "  <style>\n",
              "    .colab-df-container {\n",
              "      display:flex;\n",
              "      gap: 12px;\n",
              "    }\n",
              "\n",
              "    .colab-df-convert {\n",
              "      background-color: #E8F0FE;\n",
              "      border: none;\n",
              "      border-radius: 50%;\n",
              "      cursor: pointer;\n",
              "      display: none;\n",
              "      fill: #1967D2;\n",
              "      height: 32px;\n",
              "      padding: 0 0 0 0;\n",
              "      width: 32px;\n",
              "    }\n",
              "\n",
              "    .colab-df-convert:hover {\n",
              "      background-color: #E2EBFA;\n",
              "      box-shadow: 0px 1px 2px rgba(60, 64, 67, 0.3), 0px 1px 3px 1px rgba(60, 64, 67, 0.15);\n",
              "      fill: #174EA6;\n",
              "    }\n",
              "\n",
              "    .colab-df-buttons div {\n",
              "      margin-bottom: 4px;\n",
              "    }\n",
              "\n",
              "    [theme=dark] .colab-df-convert {\n",
              "      background-color: #3B4455;\n",
              "      fill: #D2E3FC;\n",
              "    }\n",
              "\n",
              "    [theme=dark] .colab-df-convert:hover {\n",
              "      background-color: #434B5C;\n",
              "      box-shadow: 0px 1px 3px 1px rgba(0, 0, 0, 0.15);\n",
              "      filter: drop-shadow(0px 1px 2px rgba(0, 0, 0, 0.3));\n",
              "      fill: #FFFFFF;\n",
              "    }\n",
              "  </style>\n",
              "\n",
              "    <script>\n",
              "      const buttonEl =\n",
              "        document.querySelector('#df-2c39cb34-26b2-4079-923c-48a1c24415a9 button.colab-df-convert');\n",
              "      buttonEl.style.display =\n",
              "        google.colab.kernel.accessAllowed ? 'block' : 'none';\n",
              "\n",
              "      async function convertToInteractive(key) {\n",
              "        const element = document.querySelector('#df-2c39cb34-26b2-4079-923c-48a1c24415a9');\n",
              "        const dataTable =\n",
              "          await google.colab.kernel.invokeFunction('convertToInteractive',\n",
              "                                                    [key], {});\n",
              "        if (!dataTable) return;\n",
              "\n",
              "        const docLinkHtml = 'Like what you see? Visit the ' +\n",
              "          '<a target=\"_blank\" href=https://colab.research.google.com/notebooks/data_table.ipynb>data table notebook</a>'\n",
              "          + ' to learn more about interactive tables.';\n",
              "        element.innerHTML = '';\n",
              "        dataTable['output_type'] = 'display_data';\n",
              "        await google.colab.output.renderOutput(dataTable, element);\n",
              "        const docLink = document.createElement('div');\n",
              "        docLink.innerHTML = docLinkHtml;\n",
              "        element.appendChild(docLink);\n",
              "      }\n",
              "    </script>\n",
              "  </div>\n",
              "\n",
              "\n",
              "<div id=\"df-5131344f-f5bf-4523-921a-5f330acb68b1\">\n",
              "  <button class=\"colab-df-quickchart\" onclick=\"quickchart('df-5131344f-f5bf-4523-921a-5f330acb68b1')\"\n",
              "            title=\"Suggest charts\"\n",
              "            style=\"display:none;\">\n",
              "\n",
              "<svg xmlns=\"http://www.w3.org/2000/svg\" height=\"24px\"viewBox=\"0 0 24 24\"\n",
              "     width=\"24px\">\n",
              "    <g>\n",
              "        <path d=\"M19 3H5c-1.1 0-2 .9-2 2v14c0 1.1.9 2 2 2h14c1.1 0 2-.9 2-2V5c0-1.1-.9-2-2-2zM9 17H7v-7h2v7zm4 0h-2V7h2v10zm4 0h-2v-4h2v4z\"/>\n",
              "    </g>\n",
              "</svg>\n",
              "  </button>\n",
              "\n",
              "<style>\n",
              "  .colab-df-quickchart {\n",
              "      --bg-color: #E8F0FE;\n",
              "      --fill-color: #1967D2;\n",
              "      --hover-bg-color: #E2EBFA;\n",
              "      --hover-fill-color: #174EA6;\n",
              "      --disabled-fill-color: #AAA;\n",
              "      --disabled-bg-color: #DDD;\n",
              "  }\n",
              "\n",
              "  [theme=dark] .colab-df-quickchart {\n",
              "      --bg-color: #3B4455;\n",
              "      --fill-color: #D2E3FC;\n",
              "      --hover-bg-color: #434B5C;\n",
              "      --hover-fill-color: #FFFFFF;\n",
              "      --disabled-bg-color: #3B4455;\n",
              "      --disabled-fill-color: #666;\n",
              "  }\n",
              "\n",
              "  .colab-df-quickchart {\n",
              "    background-color: var(--bg-color);\n",
              "    border: none;\n",
              "    border-radius: 50%;\n",
              "    cursor: pointer;\n",
              "    display: none;\n",
              "    fill: var(--fill-color);\n",
              "    height: 32px;\n",
              "    padding: 0;\n",
              "    width: 32px;\n",
              "  }\n",
              "\n",
              "  .colab-df-quickchart:hover {\n",
              "    background-color: var(--hover-bg-color);\n",
              "    box-shadow: 0 1px 2px rgba(60, 64, 67, 0.3), 0 1px 3px 1px rgba(60, 64, 67, 0.15);\n",
              "    fill: var(--button-hover-fill-color);\n",
              "  }\n",
              "\n",
              "  .colab-df-quickchart-complete:disabled,\n",
              "  .colab-df-quickchart-complete:disabled:hover {\n",
              "    background-color: var(--disabled-bg-color);\n",
              "    fill: var(--disabled-fill-color);\n",
              "    box-shadow: none;\n",
              "  }\n",
              "\n",
              "  .colab-df-spinner {\n",
              "    border: 2px solid var(--fill-color);\n",
              "    border-color: transparent;\n",
              "    border-bottom-color: var(--fill-color);\n",
              "    animation:\n",
              "      spin 1s steps(1) infinite;\n",
              "  }\n",
              "\n",
              "  @keyframes spin {\n",
              "    0% {\n",
              "      border-color: transparent;\n",
              "      border-bottom-color: var(--fill-color);\n",
              "      border-left-color: var(--fill-color);\n",
              "    }\n",
              "    20% {\n",
              "      border-color: transparent;\n",
              "      border-left-color: var(--fill-color);\n",
              "      border-top-color: var(--fill-color);\n",
              "    }\n",
              "    30% {\n",
              "      border-color: transparent;\n",
              "      border-left-color: var(--fill-color);\n",
              "      border-top-color: var(--fill-color);\n",
              "      border-right-color: var(--fill-color);\n",
              "    }\n",
              "    40% {\n",
              "      border-color: transparent;\n",
              "      border-right-color: var(--fill-color);\n",
              "      border-top-color: var(--fill-color);\n",
              "    }\n",
              "    60% {\n",
              "      border-color: transparent;\n",
              "      border-right-color: var(--fill-color);\n",
              "    }\n",
              "    80% {\n",
              "      border-color: transparent;\n",
              "      border-right-color: var(--fill-color);\n",
              "      border-bottom-color: var(--fill-color);\n",
              "    }\n",
              "    90% {\n",
              "      border-color: transparent;\n",
              "      border-bottom-color: var(--fill-color);\n",
              "    }\n",
              "  }\n",
              "</style>\n",
              "\n",
              "  <script>\n",
              "    async function quickchart(key) {\n",
              "      const quickchartButtonEl =\n",
              "        document.querySelector('#' + key + ' button');\n",
              "      quickchartButtonEl.disabled = true;  // To prevent multiple clicks.\n",
              "      quickchartButtonEl.classList.add('colab-df-spinner');\n",
              "      try {\n",
              "        const charts = await google.colab.kernel.invokeFunction(\n",
              "            'suggestCharts', [key], {});\n",
              "      } catch (error) {\n",
              "        console.error('Error during call to suggestCharts:', error);\n",
              "      }\n",
              "      quickchartButtonEl.classList.remove('colab-df-spinner');\n",
              "      quickchartButtonEl.classList.add('colab-df-quickchart-complete');\n",
              "    }\n",
              "    (() => {\n",
              "      let quickchartButtonEl =\n",
              "        document.querySelector('#df-5131344f-f5bf-4523-921a-5f330acb68b1 button');\n",
              "      quickchartButtonEl.style.display =\n",
              "        google.colab.kernel.accessAllowed ? 'block' : 'none';\n",
              "    })();\n",
              "  </script>\n",
              "</div>\n",
              "\n",
              "    </div>\n",
              "  </div>\n"
            ],
            "application/vnd.google.colaboratory.intrinsic+json": {
              "type": "dataframe",
              "variable_name": "maternal_data",
              "summary": "{\n  \"name\": \"maternal_data\",\n  \"rows\": 1014,\n  \"fields\": [\n    {\n      \"column\": \"Age\",\n      \"properties\": {\n        \"dtype\": \"number\",\n        \"std\": 13,\n        \"min\": 10,\n        \"max\": 70,\n        \"num_unique_values\": 50,\n        \"samples\": [\n          40,\n          43,\n          13\n        ],\n        \"semantic_type\": \"\",\n        \"description\": \"\"\n      }\n    },\n    {\n      \"column\": \"SystolicBP\",\n      \"properties\": {\n        \"dtype\": \"number\",\n        \"std\": 18,\n        \"min\": 70,\n        \"max\": 160,\n        \"num_unique_values\": 19,\n        \"samples\": [\n          130,\n          110,\n          80\n        ],\n        \"semantic_type\": \"\",\n        \"description\": \"\"\n      }\n    },\n    {\n      \"column\": \"DiastolicBP\",\n      \"properties\": {\n        \"dtype\": \"number\",\n        \"std\": 13,\n        \"min\": 49,\n        \"max\": 100,\n        \"num_unique_values\": 16,\n        \"samples\": [\n          80,\n          90,\n          89\n        ],\n        \"semantic_type\": \"\",\n        \"description\": \"\"\n      }\n    },\n    {\n      \"column\": \"BS\",\n      \"properties\": {\n        \"dtype\": \"number\",\n        \"std\": 3.293531721151281,\n        \"min\": 6.0,\n        \"max\": 19.0,\n        \"num_unique_values\": 29,\n        \"samples\": [\n          6.5,\n          7.7,\n          7.1\n        ],\n        \"semantic_type\": \"\",\n        \"description\": \"\"\n      }\n    },\n    {\n      \"column\": \"BodyTemp\",\n      \"properties\": {\n        \"dtype\": \"number\",\n        \"std\": 1.3713843755995376,\n        \"min\": 98.0,\n        \"max\": 103.0,\n        \"num_unique_values\": 8,\n        \"samples\": [\n          100.0,\n          98.4,\n          98.0\n        ],\n        \"semantic_type\": \"\",\n        \"description\": \"\"\n      }\n    },\n    {\n      \"column\": \"HeartRate\",\n      \"properties\": {\n        \"dtype\": \"number\",\n        \"std\": 8,\n        \"min\": 7,\n        \"max\": 90,\n        \"num_unique_values\": 16,\n        \"samples\": [\n          86,\n          70,\n          77\n        ],\n        \"semantic_type\": \"\",\n        \"description\": \"\"\n      }\n    },\n    {\n      \"column\": \"RiskLevel\",\n      \"properties\": {\n        \"dtype\": \"category\",\n        \"num_unique_values\": 3,\n        \"samples\": [\n          \"high risk\",\n          \"low risk\",\n          \"mid risk\"\n        ],\n        \"semantic_type\": \"\",\n        \"description\": \"\"\n      }\n    }\n  ]\n}"
            }
          },
          "metadata": {},
          "execution_count": 63
        }
      ]
    },
    {
      "cell_type": "code",
      "source": [
        "maternal_data.shape"
      ],
      "metadata": {
        "colab": {
          "base_uri": "https://localhost:8080/"
        },
        "id": "QU7mEBznI8qm",
        "outputId": "0373b246-f0ab-4331-d9eb-d13604390441"
      },
      "execution_count": null,
      "outputs": [
        {
          "output_type": "execute_result",
          "data": {
            "text/plain": [
              "(1014, 7)"
            ]
          },
          "metadata": {},
          "execution_count": 64
        }
      ]
    },
    {
      "cell_type": "code",
      "source": [
        "maternal_data['RiskLevel'].value_counts()"
      ],
      "metadata": {
        "colab": {
          "base_uri": "https://localhost:8080/"
        },
        "id": "ouNpnQ_OJjfw",
        "outputId": "47eef949-1006-44c3-ea50-066c1d06b7e5"
      },
      "execution_count": null,
      "outputs": [
        {
          "output_type": "execute_result",
          "data": {
            "text/plain": [
              "low risk     406\n",
              "mid risk     336\n",
              "high risk    272\n",
              "Name: RiskLevel, dtype: int64"
            ]
          },
          "metadata": {},
          "execution_count": 65
        }
      ]
    },
    {
      "cell_type": "markdown",
      "source": [
        "## Loading Dataset_2\n",
        "Load maternal and fetal health datasets. Each will be modeled independently and later combined for final risk prediction."
      ],
      "metadata": {
        "id": "IAPhq0QGq4YW"
      }
    },
    {
      "cell_type": "code",
      "source": [
        "fetal_data = pd.read_csv(\"/content/fetal_health.csv\")\n",
        "fetal_data.head()"
      ],
      "metadata": {
        "colab": {
          "base_uri": "https://localhost:8080/",
          "height": 273
        },
        "id": "W1HkYD_5JIcH",
        "outputId": "d3a526d5-60cc-4fc3-f005-7c85ad25abfc"
      },
      "execution_count": null,
      "outputs": [
        {
          "output_type": "execute_result",
          "data": {
            "text/plain": [
              "   baseline value  accelerations  fetal_movement  uterine_contractions  \\\n",
              "0           120.0          0.000             0.0                 0.000   \n",
              "1           132.0          0.006             0.0                 0.006   \n",
              "2           133.0          0.003             0.0                 0.008   \n",
              "3           134.0          0.003             0.0                 0.008   \n",
              "4           132.0          0.007             0.0                 0.008   \n",
              "\n",
              "   light_decelerations  severe_decelerations  prolongued_decelerations  \\\n",
              "0                0.000                   0.0                       0.0   \n",
              "1                0.003                   0.0                       0.0   \n",
              "2                0.003                   0.0                       0.0   \n",
              "3                0.003                   0.0                       0.0   \n",
              "4                0.000                   0.0                       0.0   \n",
              "\n",
              "   abnormal_short_term_variability  mean_value_of_short_term_variability  \\\n",
              "0                             73.0                                   0.5   \n",
              "1                             17.0                                   2.1   \n",
              "2                             16.0                                   2.1   \n",
              "3                             16.0                                   2.4   \n",
              "4                             16.0                                   2.4   \n",
              "\n",
              "   percentage_of_time_with_abnormal_long_term_variability  ...  histogram_min  \\\n",
              "0                                               43.0       ...           62.0   \n",
              "1                                                0.0       ...           68.0   \n",
              "2                                                0.0       ...           68.0   \n",
              "3                                                0.0       ...           53.0   \n",
              "4                                                0.0       ...           53.0   \n",
              "\n",
              "   histogram_max  histogram_number_of_peaks  histogram_number_of_zeroes  \\\n",
              "0          126.0                        2.0                         0.0   \n",
              "1          198.0                        6.0                         1.0   \n",
              "2          198.0                        5.0                         1.0   \n",
              "3          170.0                       11.0                         0.0   \n",
              "4          170.0                        9.0                         0.0   \n",
              "\n",
              "   histogram_mode  histogram_mean  histogram_median  histogram_variance  \\\n",
              "0           120.0           137.0             121.0                73.0   \n",
              "1           141.0           136.0             140.0                12.0   \n",
              "2           141.0           135.0             138.0                13.0   \n",
              "3           137.0           134.0             137.0                13.0   \n",
              "4           137.0           136.0             138.0                11.0   \n",
              "\n",
              "   histogram_tendency  fetal_health  \n",
              "0                 1.0           2.0  \n",
              "1                 0.0           1.0  \n",
              "2                 0.0           1.0  \n",
              "3                 1.0           1.0  \n",
              "4                 1.0           1.0  \n",
              "\n",
              "[5 rows x 22 columns]"
            ],
            "text/html": [
              "\n",
              "  <div id=\"df-2bd9a2ab-78d6-490c-bcf5-df5604786eb8\" class=\"colab-df-container\">\n",
              "    <div>\n",
              "<style scoped>\n",
              "    .dataframe tbody tr th:only-of-type {\n",
              "        vertical-align: middle;\n",
              "    }\n",
              "\n",
              "    .dataframe tbody tr th {\n",
              "        vertical-align: top;\n",
              "    }\n",
              "\n",
              "    .dataframe thead th {\n",
              "        text-align: right;\n",
              "    }\n",
              "</style>\n",
              "<table border=\"1\" class=\"dataframe\">\n",
              "  <thead>\n",
              "    <tr style=\"text-align: right;\">\n",
              "      <th></th>\n",
              "      <th>baseline value</th>\n",
              "      <th>accelerations</th>\n",
              "      <th>fetal_movement</th>\n",
              "      <th>uterine_contractions</th>\n",
              "      <th>light_decelerations</th>\n",
              "      <th>severe_decelerations</th>\n",
              "      <th>prolongued_decelerations</th>\n",
              "      <th>abnormal_short_term_variability</th>\n",
              "      <th>mean_value_of_short_term_variability</th>\n",
              "      <th>percentage_of_time_with_abnormal_long_term_variability</th>\n",
              "      <th>...</th>\n",
              "      <th>histogram_min</th>\n",
              "      <th>histogram_max</th>\n",
              "      <th>histogram_number_of_peaks</th>\n",
              "      <th>histogram_number_of_zeroes</th>\n",
              "      <th>histogram_mode</th>\n",
              "      <th>histogram_mean</th>\n",
              "      <th>histogram_median</th>\n",
              "      <th>histogram_variance</th>\n",
              "      <th>histogram_tendency</th>\n",
              "      <th>fetal_health</th>\n",
              "    </tr>\n",
              "  </thead>\n",
              "  <tbody>\n",
              "    <tr>\n",
              "      <th>0</th>\n",
              "      <td>120.0</td>\n",
              "      <td>0.000</td>\n",
              "      <td>0.0</td>\n",
              "      <td>0.000</td>\n",
              "      <td>0.000</td>\n",
              "      <td>0.0</td>\n",
              "      <td>0.0</td>\n",
              "      <td>73.0</td>\n",
              "      <td>0.5</td>\n",
              "      <td>43.0</td>\n",
              "      <td>...</td>\n",
              "      <td>62.0</td>\n",
              "      <td>126.0</td>\n",
              "      <td>2.0</td>\n",
              "      <td>0.0</td>\n",
              "      <td>120.0</td>\n",
              "      <td>137.0</td>\n",
              "      <td>121.0</td>\n",
              "      <td>73.0</td>\n",
              "      <td>1.0</td>\n",
              "      <td>2.0</td>\n",
              "    </tr>\n",
              "    <tr>\n",
              "      <th>1</th>\n",
              "      <td>132.0</td>\n",
              "      <td>0.006</td>\n",
              "      <td>0.0</td>\n",
              "      <td>0.006</td>\n",
              "      <td>0.003</td>\n",
              "      <td>0.0</td>\n",
              "      <td>0.0</td>\n",
              "      <td>17.0</td>\n",
              "      <td>2.1</td>\n",
              "      <td>0.0</td>\n",
              "      <td>...</td>\n",
              "      <td>68.0</td>\n",
              "      <td>198.0</td>\n",
              "      <td>6.0</td>\n",
              "      <td>1.0</td>\n",
              "      <td>141.0</td>\n",
              "      <td>136.0</td>\n",
              "      <td>140.0</td>\n",
              "      <td>12.0</td>\n",
              "      <td>0.0</td>\n",
              "      <td>1.0</td>\n",
              "    </tr>\n",
              "    <tr>\n",
              "      <th>2</th>\n",
              "      <td>133.0</td>\n",
              "      <td>0.003</td>\n",
              "      <td>0.0</td>\n",
              "      <td>0.008</td>\n",
              "      <td>0.003</td>\n",
              "      <td>0.0</td>\n",
              "      <td>0.0</td>\n",
              "      <td>16.0</td>\n",
              "      <td>2.1</td>\n",
              "      <td>0.0</td>\n",
              "      <td>...</td>\n",
              "      <td>68.0</td>\n",
              "      <td>198.0</td>\n",
              "      <td>5.0</td>\n",
              "      <td>1.0</td>\n",
              "      <td>141.0</td>\n",
              "      <td>135.0</td>\n",
              "      <td>138.0</td>\n",
              "      <td>13.0</td>\n",
              "      <td>0.0</td>\n",
              "      <td>1.0</td>\n",
              "    </tr>\n",
              "    <tr>\n",
              "      <th>3</th>\n",
              "      <td>134.0</td>\n",
              "      <td>0.003</td>\n",
              "      <td>0.0</td>\n",
              "      <td>0.008</td>\n",
              "      <td>0.003</td>\n",
              "      <td>0.0</td>\n",
              "      <td>0.0</td>\n",
              "      <td>16.0</td>\n",
              "      <td>2.4</td>\n",
              "      <td>0.0</td>\n",
              "      <td>...</td>\n",
              "      <td>53.0</td>\n",
              "      <td>170.0</td>\n",
              "      <td>11.0</td>\n",
              "      <td>0.0</td>\n",
              "      <td>137.0</td>\n",
              "      <td>134.0</td>\n",
              "      <td>137.0</td>\n",
              "      <td>13.0</td>\n",
              "      <td>1.0</td>\n",
              "      <td>1.0</td>\n",
              "    </tr>\n",
              "    <tr>\n",
              "      <th>4</th>\n",
              "      <td>132.0</td>\n",
              "      <td>0.007</td>\n",
              "      <td>0.0</td>\n",
              "      <td>0.008</td>\n",
              "      <td>0.000</td>\n",
              "      <td>0.0</td>\n",
              "      <td>0.0</td>\n",
              "      <td>16.0</td>\n",
              "      <td>2.4</td>\n",
              "      <td>0.0</td>\n",
              "      <td>...</td>\n",
              "      <td>53.0</td>\n",
              "      <td>170.0</td>\n",
              "      <td>9.0</td>\n",
              "      <td>0.0</td>\n",
              "      <td>137.0</td>\n",
              "      <td>136.0</td>\n",
              "      <td>138.0</td>\n",
              "      <td>11.0</td>\n",
              "      <td>1.0</td>\n",
              "      <td>1.0</td>\n",
              "    </tr>\n",
              "  </tbody>\n",
              "</table>\n",
              "<p>5 rows × 22 columns</p>\n",
              "</div>\n",
              "    <div class=\"colab-df-buttons\">\n",
              "\n",
              "  <div class=\"colab-df-container\">\n",
              "    <button class=\"colab-df-convert\" onclick=\"convertToInteractive('df-2bd9a2ab-78d6-490c-bcf5-df5604786eb8')\"\n",
              "            title=\"Convert this dataframe to an interactive table.\"\n",
              "            style=\"display:none;\">\n",
              "\n",
              "  <svg xmlns=\"http://www.w3.org/2000/svg\" height=\"24px\" viewBox=\"0 -960 960 960\">\n",
              "    <path d=\"M120-120v-720h720v720H120Zm60-500h600v-160H180v160Zm220 220h160v-160H400v160Zm0 220h160v-160H400v160ZM180-400h160v-160H180v160Zm440 0h160v-160H620v160ZM180-180h160v-160H180v160Zm440 0h160v-160H620v160Z\"/>\n",
              "  </svg>\n",
              "    </button>\n",
              "\n",
              "  <style>\n",
              "    .colab-df-container {\n",
              "      display:flex;\n",
              "      gap: 12px;\n",
              "    }\n",
              "\n",
              "    .colab-df-convert {\n",
              "      background-color: #E8F0FE;\n",
              "      border: none;\n",
              "      border-radius: 50%;\n",
              "      cursor: pointer;\n",
              "      display: none;\n",
              "      fill: #1967D2;\n",
              "      height: 32px;\n",
              "      padding: 0 0 0 0;\n",
              "      width: 32px;\n",
              "    }\n",
              "\n",
              "    .colab-df-convert:hover {\n",
              "      background-color: #E2EBFA;\n",
              "      box-shadow: 0px 1px 2px rgba(60, 64, 67, 0.3), 0px 1px 3px 1px rgba(60, 64, 67, 0.15);\n",
              "      fill: #174EA6;\n",
              "    }\n",
              "\n",
              "    .colab-df-buttons div {\n",
              "      margin-bottom: 4px;\n",
              "    }\n",
              "\n",
              "    [theme=dark] .colab-df-convert {\n",
              "      background-color: #3B4455;\n",
              "      fill: #D2E3FC;\n",
              "    }\n",
              "\n",
              "    [theme=dark] .colab-df-convert:hover {\n",
              "      background-color: #434B5C;\n",
              "      box-shadow: 0px 1px 3px 1px rgba(0, 0, 0, 0.15);\n",
              "      filter: drop-shadow(0px 1px 2px rgba(0, 0, 0, 0.3));\n",
              "      fill: #FFFFFF;\n",
              "    }\n",
              "  </style>\n",
              "\n",
              "    <script>\n",
              "      const buttonEl =\n",
              "        document.querySelector('#df-2bd9a2ab-78d6-490c-bcf5-df5604786eb8 button.colab-df-convert');\n",
              "      buttonEl.style.display =\n",
              "        google.colab.kernel.accessAllowed ? 'block' : 'none';\n",
              "\n",
              "      async function convertToInteractive(key) {\n",
              "        const element = document.querySelector('#df-2bd9a2ab-78d6-490c-bcf5-df5604786eb8');\n",
              "        const dataTable =\n",
              "          await google.colab.kernel.invokeFunction('convertToInteractive',\n",
              "                                                    [key], {});\n",
              "        if (!dataTable) return;\n",
              "\n",
              "        const docLinkHtml = 'Like what you see? Visit the ' +\n",
              "          '<a target=\"_blank\" href=https://colab.research.google.com/notebooks/data_table.ipynb>data table notebook</a>'\n",
              "          + ' to learn more about interactive tables.';\n",
              "        element.innerHTML = '';\n",
              "        dataTable['output_type'] = 'display_data';\n",
              "        await google.colab.output.renderOutput(dataTable, element);\n",
              "        const docLink = document.createElement('div');\n",
              "        docLink.innerHTML = docLinkHtml;\n",
              "        element.appendChild(docLink);\n",
              "      }\n",
              "    </script>\n",
              "  </div>\n",
              "\n",
              "\n",
              "<div id=\"df-20f101e9-1257-4bce-a520-b2e49e868f36\">\n",
              "  <button class=\"colab-df-quickchart\" onclick=\"quickchart('df-20f101e9-1257-4bce-a520-b2e49e868f36')\"\n",
              "            title=\"Suggest charts\"\n",
              "            style=\"display:none;\">\n",
              "\n",
              "<svg xmlns=\"http://www.w3.org/2000/svg\" height=\"24px\"viewBox=\"0 0 24 24\"\n",
              "     width=\"24px\">\n",
              "    <g>\n",
              "        <path d=\"M19 3H5c-1.1 0-2 .9-2 2v14c0 1.1.9 2 2 2h14c1.1 0 2-.9 2-2V5c0-1.1-.9-2-2-2zM9 17H7v-7h2v7zm4 0h-2V7h2v10zm4 0h-2v-4h2v4z\"/>\n",
              "    </g>\n",
              "</svg>\n",
              "  </button>\n",
              "\n",
              "<style>\n",
              "  .colab-df-quickchart {\n",
              "      --bg-color: #E8F0FE;\n",
              "      --fill-color: #1967D2;\n",
              "      --hover-bg-color: #E2EBFA;\n",
              "      --hover-fill-color: #174EA6;\n",
              "      --disabled-fill-color: #AAA;\n",
              "      --disabled-bg-color: #DDD;\n",
              "  }\n",
              "\n",
              "  [theme=dark] .colab-df-quickchart {\n",
              "      --bg-color: #3B4455;\n",
              "      --fill-color: #D2E3FC;\n",
              "      --hover-bg-color: #434B5C;\n",
              "      --hover-fill-color: #FFFFFF;\n",
              "      --disabled-bg-color: #3B4455;\n",
              "      --disabled-fill-color: #666;\n",
              "  }\n",
              "\n",
              "  .colab-df-quickchart {\n",
              "    background-color: var(--bg-color);\n",
              "    border: none;\n",
              "    border-radius: 50%;\n",
              "    cursor: pointer;\n",
              "    display: none;\n",
              "    fill: var(--fill-color);\n",
              "    height: 32px;\n",
              "    padding: 0;\n",
              "    width: 32px;\n",
              "  }\n",
              "\n",
              "  .colab-df-quickchart:hover {\n",
              "    background-color: var(--hover-bg-color);\n",
              "    box-shadow: 0 1px 2px rgba(60, 64, 67, 0.3), 0 1px 3px 1px rgba(60, 64, 67, 0.15);\n",
              "    fill: var(--button-hover-fill-color);\n",
              "  }\n",
              "\n",
              "  .colab-df-quickchart-complete:disabled,\n",
              "  .colab-df-quickchart-complete:disabled:hover {\n",
              "    background-color: var(--disabled-bg-color);\n",
              "    fill: var(--disabled-fill-color);\n",
              "    box-shadow: none;\n",
              "  }\n",
              "\n",
              "  .colab-df-spinner {\n",
              "    border: 2px solid var(--fill-color);\n",
              "    border-color: transparent;\n",
              "    border-bottom-color: var(--fill-color);\n",
              "    animation:\n",
              "      spin 1s steps(1) infinite;\n",
              "  }\n",
              "\n",
              "  @keyframes spin {\n",
              "    0% {\n",
              "      border-color: transparent;\n",
              "      border-bottom-color: var(--fill-color);\n",
              "      border-left-color: var(--fill-color);\n",
              "    }\n",
              "    20% {\n",
              "      border-color: transparent;\n",
              "      border-left-color: var(--fill-color);\n",
              "      border-top-color: var(--fill-color);\n",
              "    }\n",
              "    30% {\n",
              "      border-color: transparent;\n",
              "      border-left-color: var(--fill-color);\n",
              "      border-top-color: var(--fill-color);\n",
              "      border-right-color: var(--fill-color);\n",
              "    }\n",
              "    40% {\n",
              "      border-color: transparent;\n",
              "      border-right-color: var(--fill-color);\n",
              "      border-top-color: var(--fill-color);\n",
              "    }\n",
              "    60% {\n",
              "      border-color: transparent;\n",
              "      border-right-color: var(--fill-color);\n",
              "    }\n",
              "    80% {\n",
              "      border-color: transparent;\n",
              "      border-right-color: var(--fill-color);\n",
              "      border-bottom-color: var(--fill-color);\n",
              "    }\n",
              "    90% {\n",
              "      border-color: transparent;\n",
              "      border-bottom-color: var(--fill-color);\n",
              "    }\n",
              "  }\n",
              "</style>\n",
              "\n",
              "  <script>\n",
              "    async function quickchart(key) {\n",
              "      const quickchartButtonEl =\n",
              "        document.querySelector('#' + key + ' button');\n",
              "      quickchartButtonEl.disabled = true;  // To prevent multiple clicks.\n",
              "      quickchartButtonEl.classList.add('colab-df-spinner');\n",
              "      try {\n",
              "        const charts = await google.colab.kernel.invokeFunction(\n",
              "            'suggestCharts', [key], {});\n",
              "      } catch (error) {\n",
              "        console.error('Error during call to suggestCharts:', error);\n",
              "      }\n",
              "      quickchartButtonEl.classList.remove('colab-df-spinner');\n",
              "      quickchartButtonEl.classList.add('colab-df-quickchart-complete');\n",
              "    }\n",
              "    (() => {\n",
              "      let quickchartButtonEl =\n",
              "        document.querySelector('#df-20f101e9-1257-4bce-a520-b2e49e868f36 button');\n",
              "      quickchartButtonEl.style.display =\n",
              "        google.colab.kernel.accessAllowed ? 'block' : 'none';\n",
              "    })();\n",
              "  </script>\n",
              "</div>\n",
              "\n",
              "    </div>\n",
              "  </div>\n"
            ],
            "application/vnd.google.colaboratory.intrinsic+json": {
              "type": "dataframe",
              "variable_name": "fetal_data"
            }
          },
          "metadata": {},
          "execution_count": 66
        }
      ]
    },
    {
      "cell_type": "code",
      "source": [
        "fetal_data.shape"
      ],
      "metadata": {
        "colab": {
          "base_uri": "https://localhost:8080/"
        },
        "id": "v-VT-rWbI8kr",
        "outputId": "11f77a59-1123-4387-a289-476bf279dc0d"
      },
      "execution_count": null,
      "outputs": [
        {
          "output_type": "execute_result",
          "data": {
            "text/plain": [
              "(2126, 22)"
            ]
          },
          "metadata": {},
          "execution_count": 67
        }
      ]
    },
    {
      "cell_type": "code",
      "source": [
        "fetal_data['fetal_health'].value_counts()"
      ],
      "metadata": {
        "colab": {
          "base_uri": "https://localhost:8080/"
        },
        "id": "iJNZPgCLJ4QQ",
        "outputId": "95fc468e-92f0-4bdb-9265-75b37c7e7456"
      },
      "execution_count": null,
      "outputs": [
        {
          "output_type": "execute_result",
          "data": {
            "text/plain": [
              "1.0    1655\n",
              "2.0     295\n",
              "3.0     176\n",
              "Name: fetal_health, dtype: int64"
            ]
          },
          "metadata": {},
          "execution_count": 68
        }
      ]
    },
    {
      "cell_type": "markdown",
      "source": [
        "## Dataset Resampling\n",
        "\n",
        "The datasets are imbalanced, so I use upsampling (resample) to balance class distributions in both datasets. This prevents bias in training."
      ],
      "metadata": {
        "id": "ytrsBf1prfac"
      }
    },
    {
      "cell_type": "code",
      "source": [
        "low_risk = maternal_data[maternal_data['RiskLevel'] == 'low risk']\n",
        "mid_risk = maternal_data[maternal_data['RiskLevel'] == 'mid risk']\n",
        "high_risk = maternal_data[maternal_data['RiskLevel'] == 'high risk']\n",
        "print(low_risk.shape)\n",
        "print(mid_risk.shape)\n",
        "print(high_risk.shape)"
      ],
      "metadata": {
        "colab": {
          "base_uri": "https://localhost:8080/"
        },
        "id": "3BVt_6fuKJLG",
        "outputId": "01944eb3-fbe2-44cc-d7a0-18e921cce8b7"
      },
      "execution_count": null,
      "outputs": [
        {
          "output_type": "stream",
          "name": "stdout",
          "text": [
            "(406, 7)\n",
            "(336, 7)\n",
            "(272, 7)\n"
          ]
        }
      ]
    },
    {
      "cell_type": "code",
      "source": [
        "high_risk_upsampled = resample(high_risk, replace=True, n_samples=1655, random_state=42)\n",
        "mid_risk_upsampled = resample(mid_risk, replace=True, n_samples=1655, random_state=42)\n",
        "low_risk_upsampled = resample(low_risk, replace=True, n_samples=1655, random_state=42)\n"
      ],
      "metadata": {
        "id": "3SlHyOEbKb3c"
      },
      "execution_count": null,
      "outputs": []
    },
    {
      "cell_type": "code",
      "source": [
        "maternal_data_upsampled= pd.concat([low_risk_upsampled, mid_risk_upsampled, high_risk_upsampled])"
      ],
      "metadata": {
        "id": "z-zmbJ3wKsgh"
      },
      "execution_count": null,
      "outputs": []
    },
    {
      "cell_type": "code",
      "source": [
        "maternal_data_upsampled['RiskLevel'].value_counts()"
      ],
      "metadata": {
        "colab": {
          "base_uri": "https://localhost:8080/"
        },
        "id": "f6kn1kIBK3_T",
        "outputId": "2a22f334-ce92-4fd9-e294-d5978ec87f5b"
      },
      "execution_count": null,
      "outputs": [
        {
          "output_type": "execute_result",
          "data": {
            "text/plain": [
              "low risk     1655\n",
              "mid risk     1655\n",
              "high risk    1655\n",
              "Name: RiskLevel, dtype: int64"
            ]
          },
          "metadata": {},
          "execution_count": 72
        }
      ]
    },
    {
      "cell_type": "code",
      "source": [
        "print(maternal_data_upsampled)"
      ],
      "metadata": {
        "colab": {
          "base_uri": "https://localhost:8080/"
        },
        "id": "PIAgvKbQK7xv",
        "outputId": "73a3fbd1-7bf1-40b8-c870-e24bb5ee29db"
      },
      "execution_count": null,
      "outputs": [
        {
          "output_type": "stream",
          "name": "stdout",
          "text": [
            "     Age  SystolicBP  DiastolicBP    BS  BodyTemp  HeartRate  RiskLevel\n",
            "251   12          95           60   6.9      98.0         65   low risk\n",
            "896   15         120           80   7.9      98.0         70   low risk\n",
            "574   23          90           60   7.5      98.0         76   low risk\n",
            "255   25         100           90   6.9      98.0         76   low risk\n",
            "180   12          95           60   6.1     102.0         60   low risk\n",
            "..   ...         ...          ...   ...       ...        ...        ...\n",
            "486   38         135           60   7.9     101.0         86  high risk\n",
            "456   23         140           90   6.8      98.0         70  high risk\n",
            "532   49         140           90  15.0      98.0         90  high risk\n",
            "102   48         140           90  15.0      98.0         90  high risk\n",
            "440   23         140           90   6.8      98.0         70  high risk\n",
            "\n",
            "[4965 rows x 7 columns]\n"
          ]
        }
      ]
    },
    {
      "cell_type": "markdown",
      "source": [
        "## Data Shuffling_Maternal\n",
        "Shuffle the resampled datasets to remove ordering bias before training."
      ],
      "metadata": {
        "id": "jfMYW3zrtYNK"
      }
    },
    {
      "cell_type": "code",
      "source": [
        "maternal_data = maternal_data_upsampled.sample(frac=1)\n",
        "print(maternal_data)\n",
        "maternal_data.shape"
      ],
      "metadata": {
        "colab": {
          "base_uri": "https://localhost:8080/"
        },
        "id": "hpKAbrNAK_g5",
        "outputId": "cf2aed92-1902-4ebe-be17-d5a501e7a855"
      },
      "execution_count": null,
      "outputs": [
        {
          "output_type": "stream",
          "name": "stdout",
          "text": [
            "     Age  SystolicBP  DiastolicBP    BS  BodyTemp  HeartRate  RiskLevel\n",
            "374   50         130          100  16.0      98.0         75  high risk\n",
            "410   19         120           90   6.8      98.0         60   mid risk\n",
            "84    21          90           65   6.9      98.0         76   mid risk\n",
            "676   29          90           70   8.0     100.0         80  high risk\n",
            "297   42         120           80   7.7      98.0         70   low risk\n",
            "..   ...         ...          ...   ...       ...        ...        ...\n",
            "618   23         120           90   7.5      98.0         70   low risk\n",
            "67    19         120           80   7.0      98.0         70   mid risk\n",
            "16    50         140           90  15.0      98.0         90  high risk\n",
            "505   17          70           50   7.9      98.0         70   low risk\n",
            "862   17         120           80   6.7     102.0         76   mid risk\n",
            "\n",
            "[4965 rows x 7 columns]\n"
          ]
        },
        {
          "output_type": "execute_result",
          "data": {
            "text/plain": [
              "(4965, 7)"
            ]
          },
          "metadata": {},
          "execution_count": 74
        }
      ]
    },
    {
      "cell_type": "code",
      "source": [
        "data1 = fetal_data[fetal_data['fetal_health'] == 1.0]\n",
        "data2 = fetal_data[fetal_data['fetal_health'] == 2.0]\n",
        "data3 = fetal_data[fetal_data['fetal_health'] == 3.0]\n",
        "print(data1.shape)\n",
        "print(data2.shape)\n",
        "print(data3.shape)"
      ],
      "metadata": {
        "colab": {
          "base_uri": "https://localhost:8080/"
        },
        "id": "kvGdK2KlLNPZ",
        "outputId": "f2916a55-984c-4dc4-a3f4-78f02096da30"
      },
      "execution_count": null,
      "outputs": [
        {
          "output_type": "stream",
          "name": "stdout",
          "text": [
            "(1655, 22)\n",
            "(295, 22)\n",
            "(176, 22)\n"
          ]
        }
      ]
    },
    {
      "cell_type": "code",
      "source": [
        "data2_upsampled = resample(data2, replace=True, n_samples=len(data1), random_state=42)\n",
        "data3_upsampled = resample(data3, replace=True, n_samples=len(data1), random_state=42)\n"
      ],
      "metadata": {
        "id": "ArYSfB1GLna-"
      },
      "execution_count": null,
      "outputs": []
    },
    {
      "cell_type": "code",
      "source": [
        "fetal_data_upsampled= pd.concat([data1,data2_upsampled,data3_upsampled])"
      ],
      "metadata": {
        "id": "U0VsbFjlLwUQ"
      },
      "execution_count": null,
      "outputs": []
    },
    {
      "cell_type": "code",
      "source": [
        "fetal_data_upsampled['fetal_health'].value_counts()"
      ],
      "metadata": {
        "colab": {
          "base_uri": "https://localhost:8080/"
        },
        "id": "oMVr-M1hL0Np",
        "outputId": "e389e047-6d32-4961-9e72-23dd9289fb9e"
      },
      "execution_count": null,
      "outputs": [
        {
          "output_type": "execute_result",
          "data": {
            "text/plain": [
              "1.0    1655\n",
              "2.0    1655\n",
              "3.0    1655\n",
              "Name: fetal_health, dtype: int64"
            ]
          },
          "metadata": {},
          "execution_count": 78
        }
      ]
    },
    {
      "cell_type": "markdown",
      "source": [
        "## Data Shuffling_Fetal"
      ],
      "metadata": {
        "id": "2Q9qFAk9tKV8"
      }
    },
    {
      "cell_type": "code",
      "source": [
        "fetal_data = fetal_data_upsampled.sample(frac=1)\n",
        "fetal_data.shape"
      ],
      "metadata": {
        "colab": {
          "base_uri": "https://localhost:8080/"
        },
        "id": "MvFqA_eDL37V",
        "outputId": "a60d7976-b8c9-4e4f-9b54-85f45cff0daf"
      },
      "execution_count": null,
      "outputs": [
        {
          "output_type": "execute_result",
          "data": {
            "text/plain": [
              "(4965, 22)"
            ]
          },
          "metadata": {},
          "execution_count": 79
        }
      ]
    },
    {
      "cell_type": "code",
      "source": [
        "maternal_X = maternal_data.drop([\"RiskLevel\"], axis=1)\n",
        "maternal_Y = maternal_data[\"RiskLevel\"]"
      ],
      "metadata": {
        "id": "O3wa2WCnL-ay"
      },
      "execution_count": null,
      "outputs": []
    },
    {
      "cell_type": "code",
      "source": [
        "label_mapping = {\"low risk\": 0, \"mid risk\": 1, \"high risk\": 2}"
      ],
      "metadata": {
        "id": "wn_y712MMTm5"
      },
      "execution_count": null,
      "outputs": []
    },
    {
      "cell_type": "code",
      "source": [
        "maternal_Y = maternal_Y.map(label_mapping)"
      ],
      "metadata": {
        "id": "P8Lzf1X0MWtF"
      },
      "execution_count": null,
      "outputs": []
    },
    {
      "cell_type": "code",
      "source": [
        "print(maternal_Y)"
      ],
      "metadata": {
        "colab": {
          "base_uri": "https://localhost:8080/"
        },
        "id": "3Oy9HUGMMaB1",
        "outputId": "0cb62378-8d92-479d-fd36-c48ca71d4a09"
      },
      "execution_count": null,
      "outputs": [
        {
          "output_type": "stream",
          "name": "stdout",
          "text": [
            "374    2\n",
            "410    1\n",
            "84     1\n",
            "676    2\n",
            "297    0\n",
            "      ..\n",
            "618    0\n",
            "67     1\n",
            "16     2\n",
            "505    0\n",
            "862    1\n",
            "Name: RiskLevel, Length: 4965, dtype: int64\n"
          ]
        }
      ]
    },
    {
      "cell_type": "markdown",
      "source": [
        "## Preprocessing and Splitting _ Maternal\n",
        "\n",
        "Features and labels are separated. Data is scaled using StandardScaler, and split into training and testing sets (70/30)."
      ],
      "metadata": {
        "id": "7LGwz99USGif"
      }
    },
    {
      "cell_type": "code",
      "source": [
        "from sklearn.model_selection import train_test_split\n",
        "maternal_X_train, maternal_X_test, maternal_Y_train, maternal_Y_test = train_test_split(maternal_X,maternal_Y, test_size=0.3, random_state=0)\n",
        "print('Shape of X_train:', maternal_X_train.shape)\n",
        "print('Shape of y_train:', maternal_Y_train.shape)\n",
        "print(\"Shape of X_test:\", maternal_X_test.shape)\n",
        "print(\"Shape of y_test:\", maternal_Y_test.shape)"
      ],
      "metadata": {
        "colab": {
          "base_uri": "https://localhost:8080/"
        },
        "id": "UMlCNMo6MeQk",
        "outputId": "8df02fde-6894-46b9-a1e1-b6c5db1e1b9e"
      },
      "execution_count": null,
      "outputs": [
        {
          "output_type": "stream",
          "name": "stdout",
          "text": [
            "Shape of X_train: (3475, 6)\n",
            "Shape of y_train: (3475,)\n",
            "Shape of X_test: (1490, 6)\n",
            "Shape of y_test: (1490,)\n"
          ]
        }
      ]
    },
    {
      "cell_type": "code",
      "source": [
        "print(maternal_X_test)"
      ],
      "metadata": {
        "colab": {
          "base_uri": "https://localhost:8080/"
        },
        "id": "FBpoqJTOMww_",
        "outputId": "887ac68c-e2c7-4890-9ad7-101ed1fb98d1"
      },
      "execution_count": null,
      "outputs": [
        {
          "output_type": "stream",
          "name": "stdout",
          "text": [
            "     Age  SystolicBP  DiastolicBP     BS  BodyTemp  HeartRate\n",
            "19    10          70           50   6.90      98.0         70\n",
            "90    22         120           90   7.80      98.0         82\n",
            "763   12          95           60   6.90      98.0         65\n",
            "648   17          90           60   9.00     102.0         86\n",
            "931   22         100           65   7.50      98.0         70\n",
            "..   ...         ...          ...    ...       ...        ...\n",
            "229   15         120           80   7.20      98.0         70\n",
            "468   25         140          100   6.80      98.0         80\n",
            "91    60         120           85  15.00      98.0         60\n",
            "966   40         120           95  11.00      98.0         80\n",
            "682   25         140          100   7.01      98.0         80\n",
            "\n",
            "[1490 rows x 6 columns]\n"
          ]
        }
      ]
    },
    {
      "cell_type": "code",
      "source": [
        "scaler = StandardScaler()\n",
        "maternal_X_train = scaler.fit_transform(maternal_X_train)\n",
        "maternal_X_test=scaler.transform(maternal_X_test)"
      ],
      "metadata": {
        "id": "Oi3PIskhM0N1"
      },
      "execution_count": null,
      "outputs": []
    },
    {
      "cell_type": "markdown",
      "source": [
        "##Maternal Model\n",
        "Neural Network to classify maternal risk into 3 classes. Uses:\n",
        "\n",
        "ReLU activations\n",
        "\n",
        "Dropout for regularization\n",
        "\n",
        "Softmax output for multi-class prediction"
      ],
      "metadata": {
        "id": "biD1_otrSX-W"
      }
    },
    {
      "cell_type": "code",
      "source": [
        "maternal_model = Sequential([\n",
        "Dense(128,input_shape = [maternal_X_train.shape[1],], activation = 'relu'),\n",
        "Dropout(rate = 0.3),\n",
        "Dense(128,activation = 'relu'),\n",
        "Dropout(rate = 0.3),\n",
        "Dense(3,activation = 'softmax')\n",
        "])"
      ],
      "metadata": {
        "id": "FfK4DK0_M5S1"
      },
      "execution_count": null,
      "outputs": []
    },
    {
      "cell_type": "code",
      "source": [
        "maternal_model.summary()"
      ],
      "metadata": {
        "colab": {
          "base_uri": "https://localhost:8080/"
        },
        "id": "X_4vI_58M9A1",
        "outputId": "c855eb3b-847c-42a9-c167-aaf5611d9645"
      },
      "execution_count": null,
      "outputs": [
        {
          "output_type": "stream",
          "name": "stdout",
          "text": [
            "Model: \"sequential_2\"\n",
            "_________________________________________________________________\n",
            " Layer (type)                Output Shape              Param #   \n",
            "=================================================================\n",
            " dense_6 (Dense)             (None, 128)               896       \n",
            "                                                                 \n",
            " dropout_2 (Dropout)         (None, 128)               0         \n",
            "                                                                 \n",
            " dense_7 (Dense)             (None, 128)               16512     \n",
            "                                                                 \n",
            " dropout_3 (Dropout)         (None, 128)               0         \n",
            "                                                                 \n",
            " dense_8 (Dense)             (None, 3)                 387       \n",
            "                                                                 \n",
            "=================================================================\n",
            "Total params: 17795 (69.51 KB)\n",
            "Trainable params: 17795 (69.51 KB)\n",
            "Non-trainable params: 0 (0.00 Byte)\n",
            "_________________________________________________________________\n"
          ]
        }
      ]
    },
    {
      "cell_type": "code",
      "source": [
        "maternal_model.compile(optimizer=\"adam\", loss='sparse_categorical_crossentropy', metrics=[\"Accuracy\"])"
      ],
      "metadata": {
        "id": "dDWHGH5sNAsK"
      },
      "execution_count": null,
      "outputs": []
    },
    {
      "cell_type": "code",
      "source": [
        "maternal_model.fit(maternal_X_train, maternal_Y_train, batch_size=32, epochs=100, validation_data=(maternal_X_test, maternal_Y_test),verbose=1)"
      ],
      "metadata": {
        "colab": {
          "base_uri": "https://localhost:8080/"
        },
        "id": "kKYMqjrSNGFa",
        "outputId": "de546056-c6da-465f-f9cd-c8115fd3ab32"
      },
      "execution_count": null,
      "outputs": [
        {
          "output_type": "stream",
          "name": "stdout",
          "text": [
            "Epoch 1/100\n",
            "109/109 [==============================] - 0s 4ms/step - loss: 0.2407 - Accuracy: 0.8944 - val_loss: 0.2227 - val_Accuracy: 0.8879\n",
            "Epoch 2/100\n",
            "109/109 [==============================] - 0s 4ms/step - loss: 0.2371 - Accuracy: 0.8892 - val_loss: 0.2222 - val_Accuracy: 0.8946\n",
            "Epoch 3/100\n",
            "109/109 [==============================] - 0s 4ms/step - loss: 0.2391 - Accuracy: 0.8889 - val_loss: 0.2198 - val_Accuracy: 0.8933\n",
            "Epoch 4/100\n",
            "109/109 [==============================] - 0s 4ms/step - loss: 0.2317 - Accuracy: 0.8927 - val_loss: 0.2152 - val_Accuracy: 0.8919\n",
            "Epoch 5/100\n",
            "109/109 [==============================] - 0s 4ms/step - loss: 0.2322 - Accuracy: 0.8915 - val_loss: 0.2126 - val_Accuracy: 0.8973\n",
            "Epoch 6/100\n",
            "109/109 [==============================] - 0s 4ms/step - loss: 0.2327 - Accuracy: 0.8895 - val_loss: 0.2150 - val_Accuracy: 0.8940\n",
            "Epoch 7/100\n",
            "109/109 [==============================] - 0s 4ms/step - loss: 0.2322 - Accuracy: 0.8901 - val_loss: 0.2178 - val_Accuracy: 0.8893\n",
            "Epoch 8/100\n",
            "109/109 [==============================] - 0s 4ms/step - loss: 0.2200 - Accuracy: 0.8973 - val_loss: 0.2165 - val_Accuracy: 0.8926\n",
            "Epoch 9/100\n",
            "109/109 [==============================] - 0s 4ms/step - loss: 0.2247 - Accuracy: 0.8944 - val_loss: 0.2195 - val_Accuracy: 0.8926\n",
            "Epoch 10/100\n",
            "109/109 [==============================] - 0s 4ms/step - loss: 0.2432 - Accuracy: 0.8872 - val_loss: 0.2180 - val_Accuracy: 0.8946\n",
            "Epoch 11/100\n",
            "109/109 [==============================] - 0s 4ms/step - loss: 0.2372 - Accuracy: 0.8915 - val_loss: 0.2221 - val_Accuracy: 0.8926\n",
            "Epoch 12/100\n",
            "109/109 [==============================] - 0s 4ms/step - loss: 0.2305 - Accuracy: 0.8904 - val_loss: 0.2231 - val_Accuracy: 0.8926\n",
            "Epoch 13/100\n",
            "109/109 [==============================] - 0s 4ms/step - loss: 0.2301 - Accuracy: 0.8915 - val_loss: 0.2205 - val_Accuracy: 0.8993\n",
            "Epoch 14/100\n",
            "109/109 [==============================] - 0s 4ms/step - loss: 0.2346 - Accuracy: 0.8904 - val_loss: 0.2191 - val_Accuracy: 0.8899\n",
            "Epoch 15/100\n",
            "109/109 [==============================] - 0s 4ms/step - loss: 0.2381 - Accuracy: 0.8921 - val_loss: 0.2173 - val_Accuracy: 0.8893\n",
            "Epoch 16/100\n",
            "109/109 [==============================] - 0s 4ms/step - loss: 0.2378 - Accuracy: 0.8878 - val_loss: 0.2181 - val_Accuracy: 0.8953\n",
            "Epoch 17/100\n",
            "109/109 [==============================] - 1s 6ms/step - loss: 0.2330 - Accuracy: 0.8889 - val_loss: 0.2182 - val_Accuracy: 0.8899\n",
            "Epoch 18/100\n",
            "109/109 [==============================] - 1s 7ms/step - loss: 0.2253 - Accuracy: 0.8906 - val_loss: 0.2176 - val_Accuracy: 0.8926\n",
            "Epoch 19/100\n",
            "109/109 [==============================] - 1s 6ms/step - loss: 0.2284 - Accuracy: 0.8906 - val_loss: 0.2135 - val_Accuracy: 0.8893\n",
            "Epoch 20/100\n",
            "109/109 [==============================] - 1s 6ms/step - loss: 0.2343 - Accuracy: 0.8889 - val_loss: 0.2140 - val_Accuracy: 0.8933\n",
            "Epoch 21/100\n",
            "109/109 [==============================] - 0s 4ms/step - loss: 0.2264 - Accuracy: 0.8953 - val_loss: 0.2140 - val_Accuracy: 0.8926\n",
            "Epoch 22/100\n",
            "109/109 [==============================] - 0s 4ms/step - loss: 0.2333 - Accuracy: 0.8978 - val_loss: 0.2173 - val_Accuracy: 0.8919\n",
            "Epoch 23/100\n",
            "109/109 [==============================] - 0s 4ms/step - loss: 0.2256 - Accuracy: 0.8967 - val_loss: 0.2190 - val_Accuracy: 0.8852\n",
            "Epoch 24/100\n",
            "109/109 [==============================] - 0s 4ms/step - loss: 0.2307 - Accuracy: 0.8912 - val_loss: 0.2146 - val_Accuracy: 0.8966\n",
            "Epoch 25/100\n",
            "109/109 [==============================] - 0s 4ms/step - loss: 0.2388 - Accuracy: 0.8889 - val_loss: 0.2131 - val_Accuracy: 0.8933\n",
            "Epoch 26/100\n",
            "109/109 [==============================] - 0s 4ms/step - loss: 0.2324 - Accuracy: 0.8886 - val_loss: 0.2133 - val_Accuracy: 0.8933\n",
            "Epoch 27/100\n",
            "109/109 [==============================] - 0s 4ms/step - loss: 0.2290 - Accuracy: 0.8889 - val_loss: 0.2161 - val_Accuracy: 0.8872\n",
            "Epoch 28/100\n",
            "109/109 [==============================] - 0s 4ms/step - loss: 0.2355 - Accuracy: 0.8929 - val_loss: 0.2182 - val_Accuracy: 0.8893\n",
            "Epoch 29/100\n",
            "109/109 [==============================] - 0s 4ms/step - loss: 0.2302 - Accuracy: 0.8929 - val_loss: 0.2223 - val_Accuracy: 0.8899\n",
            "Epoch 30/100\n",
            "109/109 [==============================] - 0s 4ms/step - loss: 0.2303 - Accuracy: 0.8912 - val_loss: 0.2146 - val_Accuracy: 0.8946\n",
            "Epoch 31/100\n",
            "109/109 [==============================] - 0s 4ms/step - loss: 0.2387 - Accuracy: 0.8941 - val_loss: 0.2105 - val_Accuracy: 0.8953\n",
            "Epoch 32/100\n",
            "109/109 [==============================] - 0s 4ms/step - loss: 0.2351 - Accuracy: 0.8852 - val_loss: 0.2166 - val_Accuracy: 0.8946\n",
            "Epoch 33/100\n",
            "109/109 [==============================] - 0s 4ms/step - loss: 0.2376 - Accuracy: 0.8906 - val_loss: 0.2127 - val_Accuracy: 0.8906\n",
            "Epoch 34/100\n",
            "109/109 [==============================] - 0s 4ms/step - loss: 0.2273 - Accuracy: 0.8950 - val_loss: 0.2137 - val_Accuracy: 0.8993\n",
            "Epoch 35/100\n",
            "109/109 [==============================] - 0s 4ms/step - loss: 0.2386 - Accuracy: 0.8901 - val_loss: 0.2128 - val_Accuracy: 0.8960\n",
            "Epoch 36/100\n",
            "109/109 [==============================] - 0s 4ms/step - loss: 0.2298 - Accuracy: 0.8987 - val_loss: 0.2116 - val_Accuracy: 0.8980\n",
            "Epoch 37/100\n",
            "109/109 [==============================] - 0s 4ms/step - loss: 0.2427 - Accuracy: 0.8863 - val_loss: 0.2166 - val_Accuracy: 0.8960\n",
            "Epoch 38/100\n",
            "109/109 [==============================] - 0s 4ms/step - loss: 0.2260 - Accuracy: 0.8938 - val_loss: 0.2191 - val_Accuracy: 0.8919\n",
            "Epoch 39/100\n",
            "109/109 [==============================] - 0s 4ms/step - loss: 0.2265 - Accuracy: 0.8953 - val_loss: 0.2184 - val_Accuracy: 0.8960\n",
            "Epoch 40/100\n",
            "109/109 [==============================] - 0s 4ms/step - loss: 0.2305 - Accuracy: 0.8912 - val_loss: 0.2147 - val_Accuracy: 0.8953\n",
            "Epoch 41/100\n",
            "109/109 [==============================] - 0s 4ms/step - loss: 0.2321 - Accuracy: 0.8906 - val_loss: 0.2140 - val_Accuracy: 0.8899\n",
            "Epoch 42/100\n",
            "109/109 [==============================] - 0s 4ms/step - loss: 0.2343 - Accuracy: 0.8892 - val_loss: 0.2136 - val_Accuracy: 0.9020\n",
            "Epoch 43/100\n",
            "109/109 [==============================] - 0s 4ms/step - loss: 0.2291 - Accuracy: 0.8915 - val_loss: 0.2143 - val_Accuracy: 0.8987\n",
            "Epoch 44/100\n",
            "109/109 [==============================] - 1s 6ms/step - loss: 0.2249 - Accuracy: 0.8892 - val_loss: 0.2100 - val_Accuracy: 0.9034\n",
            "Epoch 45/100\n",
            "109/109 [==============================] - 1s 5ms/step - loss: 0.2257 - Accuracy: 0.8958 - val_loss: 0.2207 - val_Accuracy: 0.8987\n",
            "Epoch 46/100\n",
            "109/109 [==============================] - 1s 7ms/step - loss: 0.2299 - Accuracy: 0.8961 - val_loss: 0.2155 - val_Accuracy: 0.8966\n",
            "Epoch 47/100\n",
            "109/109 [==============================] - 1s 6ms/step - loss: 0.2236 - Accuracy: 0.8978 - val_loss: 0.2232 - val_Accuracy: 0.8966\n",
            "Epoch 48/100\n",
            "109/109 [==============================] - 0s 4ms/step - loss: 0.2324 - Accuracy: 0.8875 - val_loss: 0.2188 - val_Accuracy: 0.8940\n",
            "Epoch 49/100\n",
            "109/109 [==============================] - 0s 4ms/step - loss: 0.2371 - Accuracy: 0.8935 - val_loss: 0.2184 - val_Accuracy: 0.8899\n",
            "Epoch 50/100\n",
            "109/109 [==============================] - 0s 4ms/step - loss: 0.2331 - Accuracy: 0.8886 - val_loss: 0.2216 - val_Accuracy: 0.8933\n",
            "Epoch 51/100\n",
            "109/109 [==============================] - 0s 4ms/step - loss: 0.2369 - Accuracy: 0.8912 - val_loss: 0.2145 - val_Accuracy: 0.8973\n",
            "Epoch 52/100\n",
            "109/109 [==============================] - 0s 4ms/step - loss: 0.2246 - Accuracy: 0.8941 - val_loss: 0.2123 - val_Accuracy: 0.8899\n",
            "Epoch 53/100\n",
            "109/109 [==============================] - 0s 4ms/step - loss: 0.2348 - Accuracy: 0.8901 - val_loss: 0.2126 - val_Accuracy: 0.8946\n",
            "Epoch 54/100\n",
            "109/109 [==============================] - 0s 4ms/step - loss: 0.2278 - Accuracy: 0.8932 - val_loss: 0.2119 - val_Accuracy: 0.8913\n",
            "Epoch 55/100\n",
            "109/109 [==============================] - 0s 4ms/step - loss: 0.2187 - Accuracy: 0.8947 - val_loss: 0.2141 - val_Accuracy: 0.8893\n",
            "Epoch 56/100\n",
            "109/109 [==============================] - 0s 4ms/step - loss: 0.2336 - Accuracy: 0.8973 - val_loss: 0.2165 - val_Accuracy: 0.8919\n",
            "Epoch 57/100\n",
            "109/109 [==============================] - 0s 4ms/step - loss: 0.2241 - Accuracy: 0.8955 - val_loss: 0.2182 - val_Accuracy: 0.8893\n",
            "Epoch 58/100\n",
            "109/109 [==============================] - 0s 4ms/step - loss: 0.2342 - Accuracy: 0.8921 - val_loss: 0.2154 - val_Accuracy: 0.8946\n",
            "Epoch 59/100\n",
            "109/109 [==============================] - 0s 4ms/step - loss: 0.2234 - Accuracy: 0.8947 - val_loss: 0.2200 - val_Accuracy: 0.8913\n",
            "Epoch 60/100\n",
            "109/109 [==============================] - 0s 4ms/step - loss: 0.2251 - Accuracy: 0.8909 - val_loss: 0.2248 - val_Accuracy: 0.8933\n",
            "Epoch 61/100\n",
            "109/109 [==============================] - 0s 4ms/step - loss: 0.2355 - Accuracy: 0.8932 - val_loss: 0.2187 - val_Accuracy: 0.8919\n",
            "Epoch 62/100\n",
            "109/109 [==============================] - 0s 4ms/step - loss: 0.2302 - Accuracy: 0.8938 - val_loss: 0.2201 - val_Accuracy: 0.8872\n",
            "Epoch 63/100\n",
            "109/109 [==============================] - 0s 4ms/step - loss: 0.2294 - Accuracy: 0.8892 - val_loss: 0.2162 - val_Accuracy: 0.8973\n",
            "Epoch 64/100\n",
            "109/109 [==============================] - 0s 4ms/step - loss: 0.2303 - Accuracy: 0.8932 - val_loss: 0.2169 - val_Accuracy: 0.8859\n",
            "Epoch 65/100\n",
            "109/109 [==============================] - 0s 4ms/step - loss: 0.2269 - Accuracy: 0.8892 - val_loss: 0.2159 - val_Accuracy: 0.8886\n",
            "Epoch 66/100\n",
            "109/109 [==============================] - 0s 4ms/step - loss: 0.2315 - Accuracy: 0.8984 - val_loss: 0.2091 - val_Accuracy: 0.9007\n",
            "Epoch 67/100\n",
            "109/109 [==============================] - 0s 4ms/step - loss: 0.2357 - Accuracy: 0.8881 - val_loss: 0.2166 - val_Accuracy: 0.8913\n",
            "Epoch 68/100\n",
            "109/109 [==============================] - 0s 4ms/step - loss: 0.2244 - Accuracy: 0.8912 - val_loss: 0.2153 - val_Accuracy: 0.8980\n",
            "Epoch 69/100\n",
            "109/109 [==============================] - 0s 4ms/step - loss: 0.2297 - Accuracy: 0.8912 - val_loss: 0.2123 - val_Accuracy: 0.8980\n",
            "Epoch 70/100\n",
            "109/109 [==============================] - 1s 5ms/step - loss: 0.2282 - Accuracy: 0.8921 - val_loss: 0.2152 - val_Accuracy: 0.8966\n",
            "Epoch 71/100\n",
            "109/109 [==============================] - 1s 6ms/step - loss: 0.2263 - Accuracy: 0.8929 - val_loss: 0.2119 - val_Accuracy: 0.8960\n",
            "Epoch 72/100\n",
            "109/109 [==============================] - 1s 8ms/step - loss: 0.2196 - Accuracy: 0.8955 - val_loss: 0.2080 - val_Accuracy: 0.8993\n",
            "Epoch 73/100\n",
            "109/109 [==============================] - 1s 5ms/step - loss: 0.2242 - Accuracy: 0.9004 - val_loss: 0.2077 - val_Accuracy: 0.8966\n",
            "Epoch 74/100\n",
            "109/109 [==============================] - 1s 5ms/step - loss: 0.2240 - Accuracy: 0.8938 - val_loss: 0.2165 - val_Accuracy: 0.8919\n",
            "Epoch 75/100\n",
            "109/109 [==============================] - 0s 4ms/step - loss: 0.2389 - Accuracy: 0.8889 - val_loss: 0.2169 - val_Accuracy: 0.8960\n",
            "Epoch 76/100\n",
            "109/109 [==============================] - 0s 4ms/step - loss: 0.2374 - Accuracy: 0.8889 - val_loss: 0.2107 - val_Accuracy: 0.9007\n",
            "Epoch 77/100\n",
            "109/109 [==============================] - 0s 4ms/step - loss: 0.2225 - Accuracy: 0.8955 - val_loss: 0.2147 - val_Accuracy: 0.8960\n",
            "Epoch 78/100\n",
            "109/109 [==============================] - 0s 4ms/step - loss: 0.2284 - Accuracy: 0.8953 - val_loss: 0.2119 - val_Accuracy: 0.8960\n",
            "Epoch 79/100\n",
            "109/109 [==============================] - 0s 4ms/step - loss: 0.2326 - Accuracy: 0.8858 - val_loss: 0.2154 - val_Accuracy: 0.8993\n",
            "Epoch 80/100\n",
            "109/109 [==============================] - 0s 4ms/step - loss: 0.2204 - Accuracy: 0.9016 - val_loss: 0.2213 - val_Accuracy: 0.8852\n",
            "Epoch 81/100\n",
            "109/109 [==============================] - 0s 4ms/step - loss: 0.2222 - Accuracy: 0.9033 - val_loss: 0.2164 - val_Accuracy: 0.8899\n",
            "Epoch 82/100\n",
            "109/109 [==============================] - 0s 4ms/step - loss: 0.2241 - Accuracy: 0.8955 - val_loss: 0.2109 - val_Accuracy: 0.8940\n",
            "Epoch 83/100\n",
            "109/109 [==============================] - 0s 4ms/step - loss: 0.2367 - Accuracy: 0.8872 - val_loss: 0.2109 - val_Accuracy: 0.8980\n",
            "Epoch 84/100\n",
            "109/109 [==============================] - 0s 4ms/step - loss: 0.2384 - Accuracy: 0.8898 - val_loss: 0.2134 - val_Accuracy: 0.8953\n",
            "Epoch 85/100\n",
            "109/109 [==============================] - 0s 4ms/step - loss: 0.2300 - Accuracy: 0.8976 - val_loss: 0.2084 - val_Accuracy: 0.8966\n",
            "Epoch 86/100\n",
            "109/109 [==============================] - 0s 4ms/step - loss: 0.2281 - Accuracy: 0.8883 - val_loss: 0.2132 - val_Accuracy: 0.8866\n",
            "Epoch 87/100\n",
            "109/109 [==============================] - 0s 4ms/step - loss: 0.2254 - Accuracy: 0.8929 - val_loss: 0.2207 - val_Accuracy: 0.8966\n",
            "Epoch 88/100\n",
            "109/109 [==============================] - 0s 4ms/step - loss: 0.2317 - Accuracy: 0.8895 - val_loss: 0.2128 - val_Accuracy: 0.8966\n",
            "Epoch 89/100\n",
            "109/109 [==============================] - 0s 4ms/step - loss: 0.2271 - Accuracy: 0.8987 - val_loss: 0.2117 - val_Accuracy: 0.8940\n",
            "Epoch 90/100\n",
            "109/109 [==============================] - 0s 4ms/step - loss: 0.2285 - Accuracy: 0.8935 - val_loss: 0.2107 - val_Accuracy: 0.8966\n",
            "Epoch 91/100\n",
            "109/109 [==============================] - 0s 4ms/step - loss: 0.2199 - Accuracy: 0.9016 - val_loss: 0.2102 - val_Accuracy: 0.8987\n",
            "Epoch 92/100\n",
            "109/109 [==============================] - 0s 4ms/step - loss: 0.2186 - Accuracy: 0.8944 - val_loss: 0.2108 - val_Accuracy: 0.8940\n",
            "Epoch 93/100\n",
            "109/109 [==============================] - 0s 4ms/step - loss: 0.2202 - Accuracy: 0.8918 - val_loss: 0.2079 - val_Accuracy: 0.9020\n",
            "Epoch 94/100\n",
            "109/109 [==============================] - 0s 4ms/step - loss: 0.2199 - Accuracy: 0.8955 - val_loss: 0.2040 - val_Accuracy: 0.9007\n",
            "Epoch 95/100\n",
            "109/109 [==============================] - 0s 4ms/step - loss: 0.2332 - Accuracy: 0.8915 - val_loss: 0.2171 - val_Accuracy: 0.8946\n",
            "Epoch 96/100\n",
            "109/109 [==============================] - 1s 7ms/step - loss: 0.2267 - Accuracy: 0.8950 - val_loss: 0.2136 - val_Accuracy: 0.9007\n",
            "Epoch 97/100\n",
            "109/109 [==============================] - 1s 7ms/step - loss: 0.2245 - Accuracy: 0.8918 - val_loss: 0.2115 - val_Accuracy: 0.8926\n",
            "Epoch 98/100\n",
            "109/109 [==============================] - 1s 7ms/step - loss: 0.2242 - Accuracy: 0.8909 - val_loss: 0.2223 - val_Accuracy: 0.8913\n",
            "Epoch 99/100\n",
            "109/109 [==============================] - 0s 4ms/step - loss: 0.2312 - Accuracy: 0.8912 - val_loss: 0.2098 - val_Accuracy: 0.8973\n",
            "Epoch 100/100\n",
            "109/109 [==============================] - 0s 4ms/step - loss: 0.2325 - Accuracy: 0.8883 - val_loss: 0.2117 - val_Accuracy: 0.8966\n"
          ]
        },
        {
          "output_type": "execute_result",
          "data": {
            "text/plain": [
              "<keras.src.callbacks.History at 0x7b86d0ea90c0>"
            ]
          },
          "metadata": {},
          "execution_count": 91
        }
      ]
    },
    {
      "cell_type": "code",
      "source": [
        "maternal_Y_pred = maternal_model.predict(maternal_X_test)"
      ],
      "metadata": {
        "colab": {
          "base_uri": "https://localhost:8080/"
        },
        "id": "iDDMwzjzPJnc",
        "outputId": "b03120a2-21c6-4527-dc6a-37d97396d384"
      },
      "execution_count": null,
      "outputs": [
        {
          "output_type": "stream",
          "name": "stdout",
          "text": [
            "47/47 [==============================] - 0s 2ms/step\n"
          ]
        }
      ]
    },
    {
      "cell_type": "code",
      "source": [
        "maternal_Y_pred.shape"
      ],
      "metadata": {
        "colab": {
          "base_uri": "https://localhost:8080/"
        },
        "id": "9h6YAnGdPM49",
        "outputId": "a9f88ec4-bff3-4074-a625-bab9346628e2"
      },
      "execution_count": null,
      "outputs": [
        {
          "output_type": "execute_result",
          "data": {
            "text/plain": [
              "(1490, 3)"
            ]
          },
          "metadata": {},
          "execution_count": 93
        }
      ]
    },
    {
      "cell_type": "code",
      "source": [
        "fetal_X = fetal_data.drop([\"fetal_health\"], axis=1)\n",
        "fetal_Y = fetal_data[\"fetal_health\"]"
      ],
      "metadata": {
        "id": "Tbczyl5VQEvO"
      },
      "execution_count": null,
      "outputs": []
    },
    {
      "cell_type": "code",
      "source": [
        "label_mapping = {1.0:0,2.0: 1,3.0: 2}"
      ],
      "metadata": {
        "id": "pbImY26FQHzs"
      },
      "execution_count": null,
      "outputs": []
    },
    {
      "cell_type": "code",
      "source": [
        "fetal_Y = fetal_Y.map(label_mapping)"
      ],
      "metadata": {
        "id": "clUFTiV1QMNs"
      },
      "execution_count": null,
      "outputs": []
    },
    {
      "cell_type": "markdown",
      "source": [
        "## Preprocessing and Training _ Fetal\n",
        "Similar preprocessing and model training done for fetal data. Output is 3-class classification of fetal health status."
      ],
      "metadata": {
        "id": "fMHESNJQSwQM"
      }
    },
    {
      "cell_type": "code",
      "source": [
        "from sklearn.model_selection import train_test_split\n",
        "fetal_X_train, fetal_X_test, fetal_Y_train, fetal_Y_test = train_test_split(fetal_X,fetal_Y, test_size=0.3, random_state=0)\n",
        "print('Shape of X_train:', fetal_X_train.shape)\n",
        "print('Shape of y_train:', fetal_Y_train.shape)\n",
        "print(\"Shape of X_test:\", fetal_X_test.shape)\n",
        "print(\"Shape of y_test:\", fetal_Y_test.shape)"
      ],
      "metadata": {
        "colab": {
          "base_uri": "https://localhost:8080/"
        },
        "id": "GjgNDUzXQQc2",
        "outputId": "a9ef4980-2fcc-4005-c774-7083b704311e"
      },
      "execution_count": null,
      "outputs": [
        {
          "output_type": "stream",
          "name": "stdout",
          "text": [
            "Shape of X_train: (3475, 21)\n",
            "Shape of y_train: (3475,)\n",
            "Shape of X_test: (1490, 21)\n",
            "Shape of y_test: (1490,)\n"
          ]
        }
      ]
    },
    {
      "cell_type": "code",
      "source": [
        "scaler1 = StandardScaler()\n",
        "fetal_X_train = scaler1.fit_transform(fetal_X_train)\n",
        "fetal_X_test = scaler1.transform(fetal_X_test)"
      ],
      "metadata": {
        "id": "XR2eYWYPQW7P"
      },
      "execution_count": null,
      "outputs": []
    },
    {
      "cell_type": "markdown",
      "source": [
        "## Fetal Model\n"
      ],
      "metadata": {
        "id": "iKERtvFHTB4C"
      }
    },
    {
      "cell_type": "code",
      "source": [
        "fetal_model = Sequential([\n",
        "    Dense(32,kernel_initializer='uniform', activation='relu', input_shape=(fetal_X_train.shape[1],)),\n",
        "    Dense(64,kernel_initializer='uniform', activation='relu'),\n",
        "    Dense(3,kernel_initializer='uniform', activation='softmax')])"
      ],
      "metadata": {
        "id": "mz0aw-CWQaDQ"
      },
      "execution_count": null,
      "outputs": []
    },
    {
      "cell_type": "code",
      "source": [
        "fetal_model.summary()"
      ],
      "metadata": {
        "colab": {
          "base_uri": "https://localhost:8080/"
        },
        "id": "jLQqugorQeiz",
        "outputId": "89c96e77-4089-490e-d68e-2e78c8224c98"
      },
      "execution_count": null,
      "outputs": [
        {
          "output_type": "stream",
          "name": "stdout",
          "text": [
            "Model: \"sequential_3\"\n",
            "_________________________________________________________________\n",
            " Layer (type)                Output Shape              Param #   \n",
            "=================================================================\n",
            " dense_9 (Dense)             (None, 32)                704       \n",
            "                                                                 \n",
            " dense_10 (Dense)            (None, 64)                2112      \n",
            "                                                                 \n",
            " dense_11 (Dense)            (None, 3)                 195       \n",
            "                                                                 \n",
            "=================================================================\n",
            "Total params: 3011 (11.76 KB)\n",
            "Trainable params: 3011 (11.76 KB)\n",
            "Non-trainable params: 0 (0.00 Byte)\n",
            "_________________________________________________________________\n"
          ]
        }
      ]
    },
    {
      "cell_type": "code",
      "source": [
        "fetal_model.compile(optimizer=Adam(learning_rate=0.001), loss='sparse_categorical_crossentropy', metrics=[\"Accuracy\"])\n"
      ],
      "metadata": {
        "id": "ST_QWjsaQiRF"
      },
      "execution_count": null,
      "outputs": []
    },
    {
      "cell_type": "code",
      "source": [
        "fetal_model.fit(fetal_X_train, fetal_Y_train, batch_size=20, epochs=100, validation_data=(fetal_X_test, fetal_Y_test),verbose=1)"
      ],
      "metadata": {
        "colab": {
          "base_uri": "https://localhost:8080/"
        },
        "id": "jAQRrIcyQlcg",
        "outputId": "e286a20e-8ae2-48b5-9246-82381cc0a3b2"
      },
      "execution_count": null,
      "outputs": [
        {
          "output_type": "stream",
          "name": "stdout",
          "text": [
            "Epoch 1/100\n",
            "174/174 [==============================] - 1s 4ms/step - loss: 0.6869 - Accuracy: 0.7376 - val_loss: 0.3985 - val_Accuracy: 0.8456\n",
            "Epoch 2/100\n",
            "174/174 [==============================] - 1s 3ms/step - loss: 0.3607 - Accuracy: 0.8558 - val_loss: 0.3257 - val_Accuracy: 0.8644\n",
            "Epoch 3/100\n",
            "174/174 [==============================] - 1s 3ms/step - loss: 0.3061 - Accuracy: 0.8771 - val_loss: 0.2982 - val_Accuracy: 0.8799\n",
            "Epoch 4/100\n",
            "174/174 [==============================] - 1s 3ms/step - loss: 0.2769 - Accuracy: 0.8904 - val_loss: 0.2704 - val_Accuracy: 0.8973\n",
            "Epoch 5/100\n",
            "174/174 [==============================] - 0s 3ms/step - loss: 0.2548 - Accuracy: 0.8953 - val_loss: 0.2588 - val_Accuracy: 0.8899\n",
            "Epoch 6/100\n",
            "174/174 [==============================] - 1s 3ms/step - loss: 0.2354 - Accuracy: 0.9096 - val_loss: 0.2395 - val_Accuracy: 0.9047\n",
            "Epoch 7/100\n",
            "174/174 [==============================] - 1s 3ms/step - loss: 0.2124 - Accuracy: 0.9180 - val_loss: 0.2277 - val_Accuracy: 0.9121\n",
            "Epoch 8/100\n",
            "174/174 [==============================] - 1s 3ms/step - loss: 0.1960 - Accuracy: 0.9258 - val_loss: 0.2108 - val_Accuracy: 0.9188\n",
            "Epoch 9/100\n",
            "174/174 [==============================] - 1s 3ms/step - loss: 0.1853 - Accuracy: 0.9329 - val_loss: 0.2089 - val_Accuracy: 0.9188\n",
            "Epoch 10/100\n",
            "174/174 [==============================] - 1s 3ms/step - loss: 0.1763 - Accuracy: 0.9341 - val_loss: 0.2057 - val_Accuracy: 0.9208\n",
            "Epoch 11/100\n",
            "174/174 [==============================] - 1s 3ms/step - loss: 0.1627 - Accuracy: 0.9378 - val_loss: 0.1907 - val_Accuracy: 0.9322\n",
            "Epoch 12/100\n",
            "174/174 [==============================] - 1s 3ms/step - loss: 0.1596 - Accuracy: 0.9399 - val_loss: 0.1956 - val_Accuracy: 0.9221\n",
            "Epoch 13/100\n",
            "174/174 [==============================] - 1s 3ms/step - loss: 0.1523 - Accuracy: 0.9433 - val_loss: 0.1781 - val_Accuracy: 0.9349\n",
            "Epoch 14/100\n",
            "174/174 [==============================] - 1s 4ms/step - loss: 0.1458 - Accuracy: 0.9450 - val_loss: 0.1805 - val_Accuracy: 0.9329\n",
            "Epoch 15/100\n",
            "174/174 [==============================] - 1s 4ms/step - loss: 0.1401 - Accuracy: 0.9514 - val_loss: 0.1782 - val_Accuracy: 0.9302\n",
            "Epoch 16/100\n",
            "174/174 [==============================] - 1s 4ms/step - loss: 0.1424 - Accuracy: 0.9502 - val_loss: 0.1744 - val_Accuracy: 0.9403\n",
            "Epoch 17/100\n",
            "174/174 [==============================] - 1s 4ms/step - loss: 0.1360 - Accuracy: 0.9502 - val_loss: 0.1667 - val_Accuracy: 0.9369\n",
            "Epoch 18/100\n",
            "174/174 [==============================] - 1s 3ms/step - loss: 0.1325 - Accuracy: 0.9522 - val_loss: 0.1847 - val_Accuracy: 0.9430\n",
            "Epoch 19/100\n",
            "174/174 [==============================] - 1s 3ms/step - loss: 0.1305 - Accuracy: 0.9517 - val_loss: 0.1713 - val_Accuracy: 0.9342\n",
            "Epoch 20/100\n",
            "174/174 [==============================] - 1s 3ms/step - loss: 0.1264 - Accuracy: 0.9557 - val_loss: 0.1691 - val_Accuracy: 0.9369\n",
            "Epoch 21/100\n",
            "174/174 [==============================] - 1s 3ms/step - loss: 0.1236 - Accuracy: 0.9560 - val_loss: 0.1545 - val_Accuracy: 0.9483\n",
            "Epoch 22/100\n",
            "174/174 [==============================] - 0s 3ms/step - loss: 0.1200 - Accuracy: 0.9600 - val_loss: 0.1509 - val_Accuracy: 0.9443\n",
            "Epoch 23/100\n",
            "174/174 [==============================] - 1s 3ms/step - loss: 0.1131 - Accuracy: 0.9629 - val_loss: 0.1476 - val_Accuracy: 0.9416\n",
            "Epoch 24/100\n",
            "174/174 [==============================] - 1s 3ms/step - loss: 0.1134 - Accuracy: 0.9580 - val_loss: 0.1475 - val_Accuracy: 0.9450\n",
            "Epoch 25/100\n",
            "174/174 [==============================] - 1s 3ms/step - loss: 0.1128 - Accuracy: 0.9594 - val_loss: 0.1449 - val_Accuracy: 0.9470\n",
            "Epoch 26/100\n",
            "174/174 [==============================] - 1s 3ms/step - loss: 0.1099 - Accuracy: 0.9588 - val_loss: 0.1391 - val_Accuracy: 0.9503\n",
            "Epoch 27/100\n",
            "174/174 [==============================] - 1s 3ms/step - loss: 0.1046 - Accuracy: 0.9643 - val_loss: 0.1593 - val_Accuracy: 0.9416\n",
            "Epoch 28/100\n",
            "174/174 [==============================] - 0s 3ms/step - loss: 0.1054 - Accuracy: 0.9623 - val_loss: 0.1523 - val_Accuracy: 0.9456\n",
            "Epoch 29/100\n",
            "174/174 [==============================] - 0s 3ms/step - loss: 0.1067 - Accuracy: 0.9586 - val_loss: 0.1708 - val_Accuracy: 0.9376\n",
            "Epoch 30/100\n",
            "174/174 [==============================] - 1s 3ms/step - loss: 0.1056 - Accuracy: 0.9612 - val_loss: 0.1548 - val_Accuracy: 0.9443\n",
            "Epoch 31/100\n",
            "174/174 [==============================] - 1s 3ms/step - loss: 0.0998 - Accuracy: 0.9663 - val_loss: 0.1437 - val_Accuracy: 0.9503\n",
            "Epoch 32/100\n",
            "174/174 [==============================] - 1s 3ms/step - loss: 0.0975 - Accuracy: 0.9655 - val_loss: 0.1327 - val_Accuracy: 0.9523\n",
            "Epoch 33/100\n",
            "174/174 [==============================] - 1s 3ms/step - loss: 0.0925 - Accuracy: 0.9672 - val_loss: 0.1599 - val_Accuracy: 0.9409\n",
            "Epoch 34/100\n",
            "174/174 [==============================] - 1s 3ms/step - loss: 0.0984 - Accuracy: 0.9623 - val_loss: 0.1419 - val_Accuracy: 0.9490\n",
            "Epoch 35/100\n",
            "174/174 [==============================] - 1s 3ms/step - loss: 0.0871 - Accuracy: 0.9698 - val_loss: 0.1481 - val_Accuracy: 0.9544\n",
            "Epoch 36/100\n",
            "174/174 [==============================] - 1s 4ms/step - loss: 0.0903 - Accuracy: 0.9683 - val_loss: 0.1310 - val_Accuracy: 0.9570\n",
            "Epoch 37/100\n",
            "174/174 [==============================] - 1s 6ms/step - loss: 0.0876 - Accuracy: 0.9695 - val_loss: 0.1624 - val_Accuracy: 0.9517\n",
            "Epoch 38/100\n",
            "174/174 [==============================] - 1s 6ms/step - loss: 0.0868 - Accuracy: 0.9683 - val_loss: 0.1321 - val_Accuracy: 0.9550\n",
            "Epoch 39/100\n",
            "174/174 [==============================] - 1s 3ms/step - loss: 0.0848 - Accuracy: 0.9678 - val_loss: 0.1256 - val_Accuracy: 0.9597\n",
            "Epoch 40/100\n",
            "174/174 [==============================] - 0s 3ms/step - loss: 0.0832 - Accuracy: 0.9698 - val_loss: 0.1391 - val_Accuracy: 0.9557\n",
            "Epoch 41/100\n",
            "174/174 [==============================] - 1s 3ms/step - loss: 0.0827 - Accuracy: 0.9706 - val_loss: 0.1329 - val_Accuracy: 0.9564\n",
            "Epoch 42/100\n",
            "174/174 [==============================] - 0s 3ms/step - loss: 0.0885 - Accuracy: 0.9675 - val_loss: 0.1394 - val_Accuracy: 0.9584\n",
            "Epoch 43/100\n",
            "174/174 [==============================] - 1s 3ms/step - loss: 0.0798 - Accuracy: 0.9727 - val_loss: 0.1321 - val_Accuracy: 0.9591\n",
            "Epoch 44/100\n",
            "174/174 [==============================] - 1s 3ms/step - loss: 0.0805 - Accuracy: 0.9701 - val_loss: 0.1404 - val_Accuracy: 0.9557\n",
            "Epoch 45/100\n",
            "174/174 [==============================] - 1s 3ms/step - loss: 0.0837 - Accuracy: 0.9692 - val_loss: 0.1338 - val_Accuracy: 0.9564\n",
            "Epoch 46/100\n",
            "174/174 [==============================] - 1s 3ms/step - loss: 0.0777 - Accuracy: 0.9715 - val_loss: 0.1274 - val_Accuracy: 0.9611\n",
            "Epoch 47/100\n",
            "174/174 [==============================] - 1s 3ms/step - loss: 0.0761 - Accuracy: 0.9735 - val_loss: 0.1319 - val_Accuracy: 0.9591\n",
            "Epoch 48/100\n",
            "174/174 [==============================] - 1s 3ms/step - loss: 0.0696 - Accuracy: 0.9767 - val_loss: 0.1459 - val_Accuracy: 0.9510\n",
            "Epoch 49/100\n",
            "174/174 [==============================] - 1s 3ms/step - loss: 0.0755 - Accuracy: 0.9709 - val_loss: 0.1376 - val_Accuracy: 0.9638\n",
            "Epoch 50/100\n",
            "174/174 [==============================] - 1s 3ms/step - loss: 0.0722 - Accuracy: 0.9735 - val_loss: 0.1229 - val_Accuracy: 0.9617\n",
            "Epoch 51/100\n",
            "174/174 [==============================] - 1s 3ms/step - loss: 0.0695 - Accuracy: 0.9753 - val_loss: 0.1306 - val_Accuracy: 0.9597\n",
            "Epoch 52/100\n",
            "174/174 [==============================] - 0s 3ms/step - loss: 0.0714 - Accuracy: 0.9741 - val_loss: 0.1247 - val_Accuracy: 0.9691\n",
            "Epoch 53/100\n",
            "174/174 [==============================] - 0s 3ms/step - loss: 0.0708 - Accuracy: 0.9753 - val_loss: 0.1300 - val_Accuracy: 0.9658\n",
            "Epoch 54/100\n",
            "174/174 [==============================] - 0s 3ms/step - loss: 0.0688 - Accuracy: 0.9778 - val_loss: 0.1327 - val_Accuracy: 0.9617\n",
            "Epoch 55/100\n",
            "174/174 [==============================] - 1s 3ms/step - loss: 0.0691 - Accuracy: 0.9735 - val_loss: 0.1347 - val_Accuracy: 0.9577\n",
            "Epoch 56/100\n",
            "174/174 [==============================] - 1s 3ms/step - loss: 0.0700 - Accuracy: 0.9741 - val_loss: 0.1310 - val_Accuracy: 0.9658\n",
            "Epoch 57/100\n",
            "174/174 [==============================] - 1s 3ms/step - loss: 0.0635 - Accuracy: 0.9776 - val_loss: 0.1284 - val_Accuracy: 0.9664\n",
            "Epoch 58/100\n",
            "174/174 [==============================] - 1s 5ms/step - loss: 0.0633 - Accuracy: 0.9767 - val_loss: 0.1263 - val_Accuracy: 0.9671\n",
            "Epoch 59/100\n",
            "174/174 [==============================] - 1s 5ms/step - loss: 0.0667 - Accuracy: 0.9761 - val_loss: 0.1223 - val_Accuracy: 0.9638\n",
            "Epoch 60/100\n",
            "174/174 [==============================] - 1s 5ms/step - loss: 0.0616 - Accuracy: 0.9781 - val_loss: 0.1392 - val_Accuracy: 0.9611\n",
            "Epoch 61/100\n",
            "174/174 [==============================] - 1s 3ms/step - loss: 0.0659 - Accuracy: 0.9747 - val_loss: 0.1510 - val_Accuracy: 0.9550\n",
            "Epoch 62/100\n",
            "174/174 [==============================] - 1s 3ms/step - loss: 0.0621 - Accuracy: 0.9764 - val_loss: 0.1459 - val_Accuracy: 0.9564\n",
            "Epoch 63/100\n",
            "174/174 [==============================] - 1s 3ms/step - loss: 0.0599 - Accuracy: 0.9776 - val_loss: 0.1221 - val_Accuracy: 0.9631\n",
            "Epoch 64/100\n",
            "174/174 [==============================] - 1s 3ms/step - loss: 0.0654 - Accuracy: 0.9750 - val_loss: 0.1297 - val_Accuracy: 0.9651\n",
            "Epoch 65/100\n",
            "174/174 [==============================] - 1s 3ms/step - loss: 0.0679 - Accuracy: 0.9747 - val_loss: 0.1229 - val_Accuracy: 0.9664\n",
            "Epoch 66/100\n",
            "174/174 [==============================] - 0s 3ms/step - loss: 0.0570 - Accuracy: 0.9801 - val_loss: 0.1307 - val_Accuracy: 0.9624\n",
            "Epoch 67/100\n",
            "174/174 [==============================] - 0s 3ms/step - loss: 0.0601 - Accuracy: 0.9793 - val_loss: 0.1273 - val_Accuracy: 0.9711\n",
            "Epoch 68/100\n",
            "174/174 [==============================] - 1s 3ms/step - loss: 0.0591 - Accuracy: 0.9787 - val_loss: 0.1318 - val_Accuracy: 0.9638\n",
            "Epoch 69/100\n",
            "174/174 [==============================] - 1s 3ms/step - loss: 0.0606 - Accuracy: 0.9770 - val_loss: 0.1244 - val_Accuracy: 0.9671\n",
            "Epoch 70/100\n",
            "174/174 [==============================] - 1s 3ms/step - loss: 0.0574 - Accuracy: 0.9799 - val_loss: 0.1444 - val_Accuracy: 0.9678\n",
            "Epoch 71/100\n",
            "174/174 [==============================] - 0s 3ms/step - loss: 0.0575 - Accuracy: 0.9807 - val_loss: 0.1273 - val_Accuracy: 0.9691\n",
            "Epoch 72/100\n",
            "174/174 [==============================] - 1s 3ms/step - loss: 0.0529 - Accuracy: 0.9816 - val_loss: 0.1265 - val_Accuracy: 0.9644\n",
            "Epoch 73/100\n",
            "174/174 [==============================] - 0s 3ms/step - loss: 0.0517 - Accuracy: 0.9804 - val_loss: 0.1307 - val_Accuracy: 0.9698\n",
            "Epoch 74/100\n",
            "174/174 [==============================] - 1s 3ms/step - loss: 0.0519 - Accuracy: 0.9822 - val_loss: 0.1198 - val_Accuracy: 0.9678\n",
            "Epoch 75/100\n",
            "174/174 [==============================] - 1s 3ms/step - loss: 0.0527 - Accuracy: 0.9824 - val_loss: 0.1302 - val_Accuracy: 0.9664\n",
            "Epoch 76/100\n",
            "174/174 [==============================] - 1s 3ms/step - loss: 0.0527 - Accuracy: 0.9807 - val_loss: 0.1287 - val_Accuracy: 0.9725\n",
            "Epoch 77/100\n",
            "174/174 [==============================] - 1s 3ms/step - loss: 0.0490 - Accuracy: 0.9830 - val_loss: 0.1250 - val_Accuracy: 0.9658\n",
            "Epoch 78/100\n",
            "174/174 [==============================] - 1s 3ms/step - loss: 0.0582 - Accuracy: 0.9784 - val_loss: 0.1376 - val_Accuracy: 0.9658\n",
            "Epoch 79/100\n",
            "174/174 [==============================] - 1s 3ms/step - loss: 0.0494 - Accuracy: 0.9827 - val_loss: 0.1441 - val_Accuracy: 0.9631\n",
            "Epoch 80/100\n",
            "174/174 [==============================] - 1s 5ms/step - loss: 0.0584 - Accuracy: 0.9799 - val_loss: 0.1501 - val_Accuracy: 0.9664\n",
            "Epoch 81/100\n",
            "174/174 [==============================] - 1s 4ms/step - loss: 0.0549 - Accuracy: 0.9793 - val_loss: 0.1764 - val_Accuracy: 0.9604\n",
            "Epoch 82/100\n",
            "174/174 [==============================] - 1s 6ms/step - loss: 0.0481 - Accuracy: 0.9819 - val_loss: 0.1422 - val_Accuracy: 0.9705\n",
            "Epoch 83/100\n",
            "174/174 [==============================] - 1s 3ms/step - loss: 0.0525 - Accuracy: 0.9819 - val_loss: 0.1341 - val_Accuracy: 0.9725\n",
            "Epoch 84/100\n",
            "174/174 [==============================] - 1s 3ms/step - loss: 0.0483 - Accuracy: 0.9819 - val_loss: 0.1239 - val_Accuracy: 0.9691\n",
            "Epoch 85/100\n",
            "174/174 [==============================] - 1s 3ms/step - loss: 0.0508 - Accuracy: 0.9810 - val_loss: 0.1373 - val_Accuracy: 0.9711\n",
            "Epoch 86/100\n",
            "174/174 [==============================] - 1s 3ms/step - loss: 0.0483 - Accuracy: 0.9836 - val_loss: 0.1316 - val_Accuracy: 0.9738\n",
            "Epoch 87/100\n",
            "174/174 [==============================] - 1s 3ms/step - loss: 0.0479 - Accuracy: 0.9839 - val_loss: 0.1318 - val_Accuracy: 0.9745\n",
            "Epoch 88/100\n",
            "174/174 [==============================] - 1s 3ms/step - loss: 0.0477 - Accuracy: 0.9827 - val_loss: 0.1330 - val_Accuracy: 0.9725\n",
            "Epoch 89/100\n",
            "174/174 [==============================] - 1s 3ms/step - loss: 0.0492 - Accuracy: 0.9810 - val_loss: 0.1325 - val_Accuracy: 0.9698\n",
            "Epoch 90/100\n",
            "174/174 [==============================] - 1s 3ms/step - loss: 0.0459 - Accuracy: 0.9836 - val_loss: 0.1384 - val_Accuracy: 0.9705\n",
            "Epoch 91/100\n",
            "174/174 [==============================] - 1s 3ms/step - loss: 0.0412 - Accuracy: 0.9853 - val_loss: 0.1298 - val_Accuracy: 0.9705\n",
            "Epoch 92/100\n",
            "174/174 [==============================] - 1s 3ms/step - loss: 0.0438 - Accuracy: 0.9845 - val_loss: 0.1476 - val_Accuracy: 0.9671\n",
            "Epoch 93/100\n",
            "174/174 [==============================] - 1s 3ms/step - loss: 0.0454 - Accuracy: 0.9847 - val_loss: 0.1380 - val_Accuracy: 0.9691\n",
            "Epoch 94/100\n",
            "174/174 [==============================] - 1s 3ms/step - loss: 0.0450 - Accuracy: 0.9836 - val_loss: 0.1412 - val_Accuracy: 0.9718\n",
            "Epoch 95/100\n",
            "174/174 [==============================] - 1s 3ms/step - loss: 0.0472 - Accuracy: 0.9819 - val_loss: 0.1371 - val_Accuracy: 0.9758\n",
            "Epoch 96/100\n",
            "174/174 [==============================] - 0s 3ms/step - loss: 0.0457 - Accuracy: 0.9836 - val_loss: 0.1155 - val_Accuracy: 0.9738\n",
            "Epoch 97/100\n",
            "174/174 [==============================] - 1s 3ms/step - loss: 0.0431 - Accuracy: 0.9830 - val_loss: 0.1365 - val_Accuracy: 0.9691\n",
            "Epoch 98/100\n",
            "174/174 [==============================] - 0s 3ms/step - loss: 0.0418 - Accuracy: 0.9856 - val_loss: 0.1313 - val_Accuracy: 0.9758\n",
            "Epoch 99/100\n",
            "174/174 [==============================] - 1s 3ms/step - loss: 0.0394 - Accuracy: 0.9859 - val_loss: 0.1300 - val_Accuracy: 0.9685\n",
            "Epoch 100/100\n",
            "174/174 [==============================] - 1s 3ms/step - loss: 0.0414 - Accuracy: 0.9865 - val_loss: 0.1446 - val_Accuracy: 0.9698\n"
          ]
        },
        {
          "output_type": "execute_result",
          "data": {
            "text/plain": [
              "<keras.src.callbacks.History at 0x7b86d0706bf0>"
            ]
          },
          "metadata": {},
          "execution_count": 102
        }
      ]
    },
    {
      "cell_type": "code",
      "source": [
        "fetal_Y_pred = fetal_model.predict(fetal_X_test)"
      ],
      "metadata": {
        "colab": {
          "base_uri": "https://localhost:8080/"
        },
        "id": "OQBQSl0OQ5Xb",
        "outputId": "1e89993a-af7d-4c51-bb61-b9361bc8b50a"
      },
      "execution_count": null,
      "outputs": [
        {
          "output_type": "stream",
          "name": "stdout",
          "text": [
            "47/47 [==============================] - 0s 2ms/step\n"
          ]
        }
      ]
    },
    {
      "cell_type": "markdown",
      "source": [
        "##Prediction and Weighted Combination\n",
        "Combine the predictions of both models using weighted averaging. This gives a continuous risk score scaled between 0 and 1."
      ],
      "metadata": {
        "id": "be8oPbDQTVw8"
      }
    },
    {
      "cell_type": "code",
      "source": [
        "weight_model1 = 0.7\n",
        "weight_model2 = 0.3\n",
        "overall_risk = np.empty((1490, 1))\n",
        "for i in range(1490):\n",
        "  overall_pred = ((weight_model1 * maternal_Y_pred[i]) + (weight_model2 * fetal_Y_pred[i]))/2\n",
        "  overall_risk_score = 1 - (overall_pred[0]+(overall_pred[1])/2)\n",
        "  overall_risk[i] = overall_risk_score\n",
        "\n",
        "\n"
      ],
      "metadata": {
        "id": "SUIlxMyyRG2_",
        "colab": {
          "base_uri": "https://localhost:8080/"
        },
        "outputId": "87bca6cd-695d-4b9e-b3c4-eceda6bb639f"
      },
      "execution_count": null,
      "outputs": [
        {
          "output_type": "stream",
          "name": "stdout",
          "text": [
            "[[0.65000004]\n",
            " [0.82464098]\n",
            " [0.60660661]\n",
            " ...\n",
            " [0.79373904]\n",
            " [0.87238758]\n",
            " [1.        ]]\n"
          ]
        }
      ]
    },
    {
      "cell_type": "code",
      "source": [
        "print(overall_risk.shape)"
      ],
      "metadata": {
        "colab": {
          "base_uri": "https://localhost:8080/"
        },
        "id": "ihETkbQSTlfY",
        "outputId": "21211c16-5db4-46c7-9592-3bf1e691f314"
      },
      "execution_count": null,
      "outputs": [
        {
          "output_type": "stream",
          "name": "stdout",
          "text": [
            "(1490, 1)\n"
          ]
        }
      ]
    },
    {
      "cell_type": "code",
      "source": [
        "print(maternal_X_test)\n",
        "print(fetal_X_test)\n"
      ],
      "metadata": {
        "colab": {
          "base_uri": "https://localhost:8080/"
        },
        "id": "mlZGfExJjYF5",
        "outputId": "2870fed7-7538-43d3-a00d-9b9b8c42eb10"
      },
      "execution_count": null,
      "outputs": [
        {
          "output_type": "stream",
          "name": "stdout",
          "text": [
            "[[-1.51374396 -2.34414113 -1.92722405 -0.61177391 -0.49907179 -0.56878401]\n",
            " [-0.62329378  0.29423813  0.87637766 -0.36140026 -0.49907179  0.8947661 ]\n",
            " [-1.3653356  -1.0249515  -1.22632363 -0.61177391 -0.49907179 -1.17859655]\n",
            " ...\n",
            " [ 2.19646515  0.29423813  0.52592744  1.64158896 -0.49907179 -1.78840909]\n",
            " [ 0.7123815   0.29423813  1.22682787  0.52881717 -0.49907179  0.65084108]\n",
            " [-0.40068123  1.34958983  1.57727809 -0.58117268 -0.49907179  0.65084108]]\n",
            "[[-0.09703449  0.78587109 -0.22136783 ... -1.2726915   3.5726646\n",
            "  -1.83553676]\n",
            " [ 0.89969876 -0.53276823 -0.22136783 ...  0.55687609 -0.59783669\n",
            "  -1.83553676]\n",
            " [-1.59213437  0.12655143 -0.23710606 ... -0.62696176 -0.55200701\n",
            "  -0.34139522]\n",
            " ...\n",
            " [ 1.59741204  2.76383008 -0.09546199 ...  1.52547069 -0.50617733\n",
            "  -0.34139522]\n",
            " [ 0.30165881 -0.53276823 -0.22136783 ...  0.50306527 -0.55200701\n",
            "   1.15274633]\n",
            " [-0.19670782 -0.53276823 -0.22136783 ... -1.48793475  0.43333121\n",
            "  -0.34139522]]\n"
          ]
        }
      ]
    },
    {
      "cell_type": "code",
      "source": [
        "maternal_fetal_X = np.concatenate((maternal_X_test,fetal_X_test), axis=1)\n",
        "print(maternal_fetal_data.shape)"
      ],
      "metadata": {
        "colab": {
          "base_uri": "https://localhost:8080/"
        },
        "id": "n0KGQ0KHkDt0",
        "outputId": "236043d2-9156-4dcd-e277-2680c06e5d04"
      },
      "execution_count": null,
      "outputs": [
        {
          "output_type": "stream",
          "name": "stdout",
          "text": [
            "(1490, 27)\n"
          ]
        }
      ]
    },
    {
      "cell_type": "code",
      "source": [
        "maternal_fetal_Y=overall_risk"
      ],
      "metadata": {
        "id": "WzkqTK91otix"
      },
      "execution_count": null,
      "outputs": []
    },
    {
      "cell_type": "code",
      "source": [
        "from sklearn.model_selection import train_test_split\n",
        "maternal_fetal_X_train, maternal_fetal_X_test= train_test_split(maternal_fetal_X ,test_size=0.3, random_state=0)\n",
        "print('Shape of X_train:', maternal_fetal_X_train.shape)\n",
        "# print('Shape of y_train:', maternal_Y_train.shape)\n",
        "print(\"Shape of X_test:\", maternal_fetal_X_test.shape)\n",
        "# print(\"Shape of y_test:\", maternal_Y_test.shape)"
      ],
      "metadata": {
        "colab": {
          "base_uri": "https://localhost:8080/"
        },
        "id": "2fcHtBFtpKk9",
        "outputId": "0dccc685-4b18-4b5c-8516-a264a8c37b51"
      },
      "execution_count": null,
      "outputs": [
        {
          "output_type": "stream",
          "name": "stdout",
          "text": [
            "Shape of X_train: (1043, 27)\n",
            "Shape of X_test: (447, 27)\n"
          ]
        }
      ]
    },
    {
      "cell_type": "code",
      "source": [
        "from sklearn.model_selection import train_test_split\n",
        "maternal_fetal_Y_train, maternal_fetal_Y_test= train_test_split(maternal_fetal_Y ,test_size=0.3, random_state=0)\n",
        "print('Shape of X_train:', maternal_fetal_Y_train.shape)\n",
        "# print('Shape of y_train:', maternal_Y_train.shape)\n",
        "print(\"Shape of X_test:\", maternal_fetal_Y_test.shape)\n",
        "# print(\"Shape of y_test:\", maternal_Y_test.shape)"
      ],
      "metadata": {
        "colab": {
          "base_uri": "https://localhost:8080/"
        },
        "id": "-lke9mVSp6jp",
        "outputId": "3f0cfcd8-9c6b-4c18-85c6-37f5b6946725"
      },
      "execution_count": null,
      "outputs": [
        {
          "output_type": "stream",
          "name": "stdout",
          "text": [
            "Shape of X_train: (1043, 1)\n",
            "Shape of X_test: (447, 1)\n"
          ]
        }
      ]
    },
    {
      "cell_type": "markdown",
      "source": [
        "##Final Stacked Model\n",
        "Use combined input features from both models to train a final model that predicts the integrated risk score. This model is trained as a regression model with sigmoid output."
      ],
      "metadata": {
        "id": "Ykeu_yzpTml7"
      }
    },
    {
      "cell_type": "code",
      "source": [
        "maternal_fetal_model = Sequential([\n",
        "    Dense(32,kernel_initializer='uniform', activation='relu', input_shape=(maternal_fetal_X_train.shape[1],)),\n",
        "    Dense(64,kernel_initializer='uniform', activation='relu'),\n",
        "    Dense(1,kernel_initializer='uniform', activation='sigmoid')])"
      ],
      "metadata": {
        "id": "3t1bVLGvqJIr"
      },
      "execution_count": null,
      "outputs": []
    },
    {
      "cell_type": "code",
      "source": [
        "maternal_fetal_model.compile(optimizer=Adam(learning_rate=0.001), loss='mean_squared_error', metrics=['mae', 'mse'])"
      ],
      "metadata": {
        "id": "omdI23dMqZOp"
      },
      "execution_count": null,
      "outputs": []
    },
    {
      "cell_type": "code",
      "source": [
        "maternal_fetal_model.fit(maternal_fetal_X_train, maternal_fetal_Y_train, batch_size=20, epochs=100, validation_data=(maternal_fetal_X_test, maternal_fetal_Y_test),verbose=1)"
      ],
      "metadata": {
        "colab": {
          "base_uri": "https://localhost:8080/"
        },
        "id": "qK-hSWYXq7hC",
        "outputId": "110b9ea2-0a6c-4dc4-b546-d836fe2c5b12"
      },
      "execution_count": null,
      "outputs": [
        {
          "output_type": "stream",
          "name": "stdout",
          "text": [
            "Epoch 1/100\n",
            "53/53 [==============================] - 1s 7ms/step - loss: 0.0518 - mae: 0.1850 - mse: 0.0518 - val_loss: 0.0134 - val_mae: 0.0950 - val_mse: 0.0134\n",
            "Epoch 2/100\n",
            "53/53 [==============================] - 0s 4ms/step - loss: 0.0128 - mae: 0.0908 - mse: 0.0128 - val_loss: 0.0101 - val_mae: 0.0811 - val_mse: 0.0101\n",
            "Epoch 3/100\n",
            "53/53 [==============================] - 0s 4ms/step - loss: 0.0105 - mae: 0.0820 - mse: 0.0105 - val_loss: 0.0092 - val_mae: 0.0773 - val_mse: 0.0092\n",
            "Epoch 4/100\n",
            "53/53 [==============================] - 0s 3ms/step - loss: 0.0097 - mae: 0.0796 - mse: 0.0097 - val_loss: 0.0089 - val_mae: 0.0758 - val_mse: 0.0089\n",
            "Epoch 5/100\n",
            "53/53 [==============================] - 0s 3ms/step - loss: 0.0092 - mae: 0.0774 - mse: 0.0092 - val_loss: 0.0088 - val_mae: 0.0751 - val_mse: 0.0088\n",
            "Epoch 6/100\n",
            "53/53 [==============================] - 0s 3ms/step - loss: 0.0089 - mae: 0.0763 - mse: 0.0089 - val_loss: 0.0086 - val_mae: 0.0739 - val_mse: 0.0086\n",
            "Epoch 7/100\n",
            "53/53 [==============================] - 0s 3ms/step - loss: 0.0087 - mae: 0.0748 - mse: 0.0087 - val_loss: 0.0085 - val_mae: 0.0734 - val_mse: 0.0085\n",
            "Epoch 8/100\n",
            "53/53 [==============================] - 0s 4ms/step - loss: 0.0084 - mae: 0.0738 - mse: 0.0084 - val_loss: 0.0084 - val_mae: 0.0724 - val_mse: 0.0084\n",
            "Epoch 9/100\n",
            "53/53 [==============================] - 0s 4ms/step - loss: 0.0083 - mae: 0.0735 - mse: 0.0083 - val_loss: 0.0085 - val_mae: 0.0726 - val_mse: 0.0085\n",
            "Epoch 10/100\n",
            "53/53 [==============================] - 0s 3ms/step - loss: 0.0080 - mae: 0.0719 - mse: 0.0080 - val_loss: 0.0083 - val_mae: 0.0718 - val_mse: 0.0083\n",
            "Epoch 11/100\n",
            "53/53 [==============================] - 0s 4ms/step - loss: 0.0080 - mae: 0.0719 - mse: 0.0080 - val_loss: 0.0084 - val_mae: 0.0719 - val_mse: 0.0084\n",
            "Epoch 12/100\n",
            "53/53 [==============================] - 0s 4ms/step - loss: 0.0078 - mae: 0.0713 - mse: 0.0078 - val_loss: 0.0082 - val_mae: 0.0712 - val_mse: 0.0082\n",
            "Epoch 13/100\n",
            "53/53 [==============================] - 0s 5ms/step - loss: 0.0078 - mae: 0.0709 - mse: 0.0078 - val_loss: 0.0082 - val_mae: 0.0710 - val_mse: 0.0082\n",
            "Epoch 14/100\n",
            "53/53 [==============================] - 0s 5ms/step - loss: 0.0077 - mae: 0.0707 - mse: 0.0077 - val_loss: 0.0082 - val_mae: 0.0710 - val_mse: 0.0082\n",
            "Epoch 15/100\n",
            "53/53 [==============================] - 0s 4ms/step - loss: 0.0075 - mae: 0.0694 - mse: 0.0075 - val_loss: 0.0082 - val_mae: 0.0705 - val_mse: 0.0082\n",
            "Epoch 16/100\n",
            "53/53 [==============================] - 0s 5ms/step - loss: 0.0074 - mae: 0.0688 - mse: 0.0074 - val_loss: 0.0081 - val_mae: 0.0707 - val_mse: 0.0081\n",
            "Epoch 17/100\n",
            "53/53 [==============================] - 0s 5ms/step - loss: 0.0073 - mae: 0.0686 - mse: 0.0073 - val_loss: 0.0084 - val_mae: 0.0712 - val_mse: 0.0084\n",
            "Epoch 18/100\n",
            "53/53 [==============================] - 0s 4ms/step - loss: 0.0073 - mae: 0.0681 - mse: 0.0073 - val_loss: 0.0080 - val_mae: 0.0699 - val_mse: 0.0080\n",
            "Epoch 19/100\n",
            "53/53 [==============================] - 0s 5ms/step - loss: 0.0072 - mae: 0.0675 - mse: 0.0072 - val_loss: 0.0080 - val_mae: 0.0695 - val_mse: 0.0080\n",
            "Epoch 20/100\n",
            "53/53 [==============================] - 0s 5ms/step - loss: 0.0070 - mae: 0.0664 - mse: 0.0070 - val_loss: 0.0082 - val_mae: 0.0706 - val_mse: 0.0082\n",
            "Epoch 21/100\n",
            "53/53 [==============================] - 0s 5ms/step - loss: 0.0069 - mae: 0.0663 - mse: 0.0069 - val_loss: 0.0080 - val_mae: 0.0698 - val_mse: 0.0080\n",
            "Epoch 22/100\n",
            "53/53 [==============================] - 0s 5ms/step - loss: 0.0068 - mae: 0.0654 - mse: 0.0068 - val_loss: 0.0080 - val_mae: 0.0694 - val_mse: 0.0080\n",
            "Epoch 23/100\n",
            "53/53 [==============================] - 0s 3ms/step - loss: 0.0067 - mae: 0.0656 - mse: 0.0067 - val_loss: 0.0079 - val_mae: 0.0689 - val_mse: 0.0079\n",
            "Epoch 24/100\n",
            "53/53 [==============================] - 0s 3ms/step - loss: 0.0067 - mae: 0.0649 - mse: 0.0067 - val_loss: 0.0078 - val_mae: 0.0684 - val_mse: 0.0078\n",
            "Epoch 25/100\n",
            "53/53 [==============================] - 0s 4ms/step - loss: 0.0065 - mae: 0.0638 - mse: 0.0065 - val_loss: 0.0078 - val_mae: 0.0683 - val_mse: 0.0078\n",
            "Epoch 26/100\n",
            "53/53 [==============================] - 0s 3ms/step - loss: 0.0064 - mae: 0.0637 - mse: 0.0064 - val_loss: 0.0077 - val_mae: 0.0683 - val_mse: 0.0077\n",
            "Epoch 27/100\n",
            "53/53 [==============================] - 0s 4ms/step - loss: 0.0063 - mae: 0.0632 - mse: 0.0063 - val_loss: 0.0078 - val_mae: 0.0682 - val_mse: 0.0078\n",
            "Epoch 28/100\n",
            "53/53 [==============================] - 0s 3ms/step - loss: 0.0063 - mae: 0.0630 - mse: 0.0063 - val_loss: 0.0077 - val_mae: 0.0676 - val_mse: 0.0077\n",
            "Epoch 29/100\n",
            "53/53 [==============================] - 0s 3ms/step - loss: 0.0061 - mae: 0.0622 - mse: 0.0061 - val_loss: 0.0078 - val_mae: 0.0678 - val_mse: 0.0078\n",
            "Epoch 30/100\n",
            "53/53 [==============================] - 0s 3ms/step - loss: 0.0061 - mae: 0.0616 - mse: 0.0061 - val_loss: 0.0077 - val_mae: 0.0676 - val_mse: 0.0077\n",
            "Epoch 31/100\n",
            "53/53 [==============================] - 0s 3ms/step - loss: 0.0061 - mae: 0.0617 - mse: 0.0061 - val_loss: 0.0079 - val_mae: 0.0681 - val_mse: 0.0079\n",
            "Epoch 32/100\n",
            "53/53 [==============================] - 0s 3ms/step - loss: 0.0059 - mae: 0.0604 - mse: 0.0059 - val_loss: 0.0077 - val_mae: 0.0675 - val_mse: 0.0077\n",
            "Epoch 33/100\n",
            "53/53 [==============================] - 0s 3ms/step - loss: 0.0059 - mae: 0.0600 - mse: 0.0059 - val_loss: 0.0077 - val_mae: 0.0677 - val_mse: 0.0077\n",
            "Epoch 34/100\n",
            "53/53 [==============================] - 0s 3ms/step - loss: 0.0059 - mae: 0.0604 - mse: 0.0059 - val_loss: 0.0077 - val_mae: 0.0675 - val_mse: 0.0077\n",
            "Epoch 35/100\n",
            "53/53 [==============================] - 0s 3ms/step - loss: 0.0057 - mae: 0.0593 - mse: 0.0057 - val_loss: 0.0077 - val_mae: 0.0673 - val_mse: 0.0077\n",
            "Epoch 36/100\n",
            "53/53 [==============================] - 0s 4ms/step - loss: 0.0055 - mae: 0.0581 - mse: 0.0055 - val_loss: 0.0076 - val_mae: 0.0670 - val_mse: 0.0076\n",
            "Epoch 37/100\n",
            "53/53 [==============================] - 0s 3ms/step - loss: 0.0055 - mae: 0.0581 - mse: 0.0055 - val_loss: 0.0075 - val_mae: 0.0665 - val_mse: 0.0075\n",
            "Epoch 38/100\n",
            "53/53 [==============================] - 0s 3ms/step - loss: 0.0054 - mae: 0.0573 - mse: 0.0054 - val_loss: 0.0076 - val_mae: 0.0670 - val_mse: 0.0076\n",
            "Epoch 39/100\n",
            "53/53 [==============================] - 0s 3ms/step - loss: 0.0055 - mae: 0.0576 - mse: 0.0055 - val_loss: 0.0077 - val_mae: 0.0677 - val_mse: 0.0077\n",
            "Epoch 40/100\n",
            "53/53 [==============================] - 0s 3ms/step - loss: 0.0052 - mae: 0.0565 - mse: 0.0052 - val_loss: 0.0077 - val_mae: 0.0674 - val_mse: 0.0077\n",
            "Epoch 41/100\n",
            "53/53 [==============================] - 0s 4ms/step - loss: 0.0053 - mae: 0.0566 - mse: 0.0053 - val_loss: 0.0081 - val_mae: 0.0686 - val_mse: 0.0081\n",
            "Epoch 42/100\n",
            "53/53 [==============================] - 0s 3ms/step - loss: 0.0052 - mae: 0.0559 - mse: 0.0052 - val_loss: 0.0077 - val_mae: 0.0675 - val_mse: 0.0077\n",
            "Epoch 43/100\n",
            "53/53 [==============================] - 0s 3ms/step - loss: 0.0052 - mae: 0.0562 - mse: 0.0052 - val_loss: 0.0078 - val_mae: 0.0677 - val_mse: 0.0078\n",
            "Epoch 44/100\n",
            "53/53 [==============================] - 0s 3ms/step - loss: 0.0050 - mae: 0.0547 - mse: 0.0050 - val_loss: 0.0077 - val_mae: 0.0666 - val_mse: 0.0077\n",
            "Epoch 45/100\n",
            "53/53 [==============================] - 0s 4ms/step - loss: 0.0050 - mae: 0.0546 - mse: 0.0050 - val_loss: 0.0078 - val_mae: 0.0667 - val_mse: 0.0078\n",
            "Epoch 46/100\n",
            "53/53 [==============================] - 0s 3ms/step - loss: 0.0048 - mae: 0.0534 - mse: 0.0048 - val_loss: 0.0078 - val_mae: 0.0671 - val_mse: 0.0078\n",
            "Epoch 47/100\n",
            "53/53 [==============================] - 0s 4ms/step - loss: 0.0049 - mae: 0.0544 - mse: 0.0049 - val_loss: 0.0080 - val_mae: 0.0675 - val_mse: 0.0080\n",
            "Epoch 48/100\n",
            "53/53 [==============================] - 0s 3ms/step - loss: 0.0047 - mae: 0.0531 - mse: 0.0047 - val_loss: 0.0078 - val_mae: 0.0667 - val_mse: 0.0078\n",
            "Epoch 49/100\n",
            "53/53 [==============================] - 0s 3ms/step - loss: 0.0046 - mae: 0.0529 - mse: 0.0046 - val_loss: 0.0081 - val_mae: 0.0682 - val_mse: 0.0081\n",
            "Epoch 50/100\n",
            "53/53 [==============================] - 0s 3ms/step - loss: 0.0046 - mae: 0.0515 - mse: 0.0046 - val_loss: 0.0080 - val_mae: 0.0676 - val_mse: 0.0080\n",
            "Epoch 51/100\n",
            "53/53 [==============================] - 0s 3ms/step - loss: 0.0045 - mae: 0.0518 - mse: 0.0045 - val_loss: 0.0079 - val_mae: 0.0669 - val_mse: 0.0079\n",
            "Epoch 52/100\n",
            "53/53 [==============================] - 0s 4ms/step - loss: 0.0044 - mae: 0.0512 - mse: 0.0044 - val_loss: 0.0080 - val_mae: 0.0666 - val_mse: 0.0080\n",
            "Epoch 53/100\n",
            "53/53 [==============================] - 0s 4ms/step - loss: 0.0043 - mae: 0.0506 - mse: 0.0043 - val_loss: 0.0081 - val_mae: 0.0681 - val_mse: 0.0081\n",
            "Epoch 54/100\n",
            "53/53 [==============================] - 0s 4ms/step - loss: 0.0042 - mae: 0.0498 - mse: 0.0042 - val_loss: 0.0077 - val_mae: 0.0668 - val_mse: 0.0077\n",
            "Epoch 55/100\n",
            "53/53 [==============================] - 0s 3ms/step - loss: 0.0042 - mae: 0.0494 - mse: 0.0042 - val_loss: 0.0081 - val_mae: 0.0674 - val_mse: 0.0081\n",
            "Epoch 56/100\n",
            "53/53 [==============================] - 0s 4ms/step - loss: 0.0041 - mae: 0.0491 - mse: 0.0041 - val_loss: 0.0078 - val_mae: 0.0666 - val_mse: 0.0078\n",
            "Epoch 57/100\n",
            "53/53 [==============================] - 0s 4ms/step - loss: 0.0040 - mae: 0.0484 - mse: 0.0040 - val_loss: 0.0079 - val_mae: 0.0673 - val_mse: 0.0079\n",
            "Epoch 58/100\n",
            "53/53 [==============================] - 0s 4ms/step - loss: 0.0040 - mae: 0.0484 - mse: 0.0040 - val_loss: 0.0078 - val_mae: 0.0667 - val_mse: 0.0078\n",
            "Epoch 59/100\n",
            "53/53 [==============================] - 0s 4ms/step - loss: 0.0039 - mae: 0.0474 - mse: 0.0039 - val_loss: 0.0081 - val_mae: 0.0674 - val_mse: 0.0081\n",
            "Epoch 60/100\n",
            "53/53 [==============================] - 0s 4ms/step - loss: 0.0038 - mae: 0.0467 - mse: 0.0038 - val_loss: 0.0079 - val_mae: 0.0675 - val_mse: 0.0079\n",
            "Epoch 61/100\n",
            "53/53 [==============================] - 0s 3ms/step - loss: 0.0037 - mae: 0.0464 - mse: 0.0037 - val_loss: 0.0080 - val_mae: 0.0675 - val_mse: 0.0080\n",
            "Epoch 62/100\n",
            "53/53 [==============================] - 0s 3ms/step - loss: 0.0037 - mae: 0.0457 - mse: 0.0037 - val_loss: 0.0079 - val_mae: 0.0666 - val_mse: 0.0079\n",
            "Epoch 63/100\n",
            "53/53 [==============================] - 0s 4ms/step - loss: 0.0037 - mae: 0.0467 - mse: 0.0037 - val_loss: 0.0081 - val_mae: 0.0674 - val_mse: 0.0081\n",
            "Epoch 64/100\n",
            "53/53 [==============================] - 0s 4ms/step - loss: 0.0036 - mae: 0.0456 - mse: 0.0036 - val_loss: 0.0078 - val_mae: 0.0663 - val_mse: 0.0078\n",
            "Epoch 65/100\n",
            "53/53 [==============================] - 0s 4ms/step - loss: 0.0036 - mae: 0.0455 - mse: 0.0036 - val_loss: 0.0078 - val_mae: 0.0661 - val_mse: 0.0078\n",
            "Epoch 66/100\n",
            "53/53 [==============================] - 0s 3ms/step - loss: 0.0036 - mae: 0.0454 - mse: 0.0036 - val_loss: 0.0081 - val_mae: 0.0678 - val_mse: 0.0081\n",
            "Epoch 67/100\n",
            "53/53 [==============================] - 0s 4ms/step - loss: 0.0036 - mae: 0.0451 - mse: 0.0036 - val_loss: 0.0079 - val_mae: 0.0671 - val_mse: 0.0079\n",
            "Epoch 68/100\n",
            "53/53 [==============================] - 0s 4ms/step - loss: 0.0036 - mae: 0.0455 - mse: 0.0036 - val_loss: 0.0077 - val_mae: 0.0665 - val_mse: 0.0077\n",
            "Epoch 69/100\n",
            "53/53 [==============================] - 0s 4ms/step - loss: 0.0033 - mae: 0.0439 - mse: 0.0033 - val_loss: 0.0078 - val_mae: 0.0662 - val_mse: 0.0078\n",
            "Epoch 70/100\n",
            "53/53 [==============================] - 0s 3ms/step - loss: 0.0034 - mae: 0.0440 - mse: 0.0034 - val_loss: 0.0083 - val_mae: 0.0692 - val_mse: 0.0083\n",
            "Epoch 71/100\n",
            "53/53 [==============================] - 0s 4ms/step - loss: 0.0033 - mae: 0.0437 - mse: 0.0033 - val_loss: 0.0077 - val_mae: 0.0662 - val_mse: 0.0077\n",
            "Epoch 72/100\n",
            "53/53 [==============================] - 0s 4ms/step - loss: 0.0033 - mae: 0.0433 - mse: 0.0033 - val_loss: 0.0079 - val_mae: 0.0673 - val_mse: 0.0079\n",
            "Epoch 73/100\n",
            "53/53 [==============================] - 0s 4ms/step - loss: 0.0032 - mae: 0.0426 - mse: 0.0032 - val_loss: 0.0077 - val_mae: 0.0662 - val_mse: 0.0077\n",
            "Epoch 74/100\n",
            "53/53 [==============================] - 0s 3ms/step - loss: 0.0032 - mae: 0.0430 - mse: 0.0032 - val_loss: 0.0077 - val_mae: 0.0664 - val_mse: 0.0077\n",
            "Epoch 75/100\n",
            "53/53 [==============================] - 0s 3ms/step - loss: 0.0033 - mae: 0.0429 - mse: 0.0033 - val_loss: 0.0077 - val_mae: 0.0660 - val_mse: 0.0077\n",
            "Epoch 76/100\n",
            "53/53 [==============================] - 0s 4ms/step - loss: 0.0031 - mae: 0.0420 - mse: 0.0031 - val_loss: 0.0078 - val_mae: 0.0667 - val_mse: 0.0078\n",
            "Epoch 77/100\n",
            "53/53 [==============================] - 0s 5ms/step - loss: 0.0030 - mae: 0.0410 - mse: 0.0030 - val_loss: 0.0080 - val_mae: 0.0673 - val_mse: 0.0080\n",
            "Epoch 78/100\n",
            "53/53 [==============================] - 0s 5ms/step - loss: 0.0030 - mae: 0.0416 - mse: 0.0030 - val_loss: 0.0079 - val_mae: 0.0671 - val_mse: 0.0079\n",
            "Epoch 79/100\n",
            "53/53 [==============================] - 0s 4ms/step - loss: 0.0029 - mae: 0.0408 - mse: 0.0029 - val_loss: 0.0079 - val_mae: 0.0668 - val_mse: 0.0079\n",
            "Epoch 80/100\n",
            "53/53 [==============================] - 0s 4ms/step - loss: 0.0028 - mae: 0.0400 - mse: 0.0028 - val_loss: 0.0078 - val_mae: 0.0667 - val_mse: 0.0078\n",
            "Epoch 81/100\n",
            "53/53 [==============================] - 0s 4ms/step - loss: 0.0029 - mae: 0.0406 - mse: 0.0029 - val_loss: 0.0079 - val_mae: 0.0668 - val_mse: 0.0079\n",
            "Epoch 82/100\n",
            "53/53 [==============================] - 0s 5ms/step - loss: 0.0030 - mae: 0.0410 - mse: 0.0030 - val_loss: 0.0077 - val_mae: 0.0660 - val_mse: 0.0077\n",
            "Epoch 83/100\n",
            "53/53 [==============================] - 0s 4ms/step - loss: 0.0028 - mae: 0.0396 - mse: 0.0028 - val_loss: 0.0079 - val_mae: 0.0662 - val_mse: 0.0079\n",
            "Epoch 84/100\n",
            "53/53 [==============================] - 0s 5ms/step - loss: 0.0028 - mae: 0.0401 - mse: 0.0028 - val_loss: 0.0078 - val_mae: 0.0662 - val_mse: 0.0078\n",
            "Epoch 85/100\n",
            "53/53 [==============================] - 0s 5ms/step - loss: 0.0028 - mae: 0.0399 - mse: 0.0028 - val_loss: 0.0079 - val_mae: 0.0663 - val_mse: 0.0079\n",
            "Epoch 86/100\n",
            "53/53 [==============================] - 0s 5ms/step - loss: 0.0027 - mae: 0.0388 - mse: 0.0027 - val_loss: 0.0080 - val_mae: 0.0668 - val_mse: 0.0080\n",
            "Epoch 87/100\n",
            "53/53 [==============================] - 0s 3ms/step - loss: 0.0027 - mae: 0.0389 - mse: 0.0027 - val_loss: 0.0079 - val_mae: 0.0665 - val_mse: 0.0079\n",
            "Epoch 88/100\n",
            "53/53 [==============================] - 0s 3ms/step - loss: 0.0026 - mae: 0.0383 - mse: 0.0026 - val_loss: 0.0078 - val_mae: 0.0664 - val_mse: 0.0078\n",
            "Epoch 89/100\n",
            "53/53 [==============================] - 0s 3ms/step - loss: 0.0026 - mae: 0.0380 - mse: 0.0026 - val_loss: 0.0076 - val_mae: 0.0665 - val_mse: 0.0076\n",
            "Epoch 90/100\n",
            "53/53 [==============================] - 0s 4ms/step - loss: 0.0026 - mae: 0.0381 - mse: 0.0026 - val_loss: 0.0079 - val_mae: 0.0664 - val_mse: 0.0079\n",
            "Epoch 91/100\n",
            "53/53 [==============================] - 0s 3ms/step - loss: 0.0027 - mae: 0.0392 - mse: 0.0027 - val_loss: 0.0086 - val_mae: 0.0709 - val_mse: 0.0086\n",
            "Epoch 92/100\n",
            "53/53 [==============================] - 0s 3ms/step - loss: 0.0028 - mae: 0.0403 - mse: 0.0028 - val_loss: 0.0082 - val_mae: 0.0681 - val_mse: 0.0082\n",
            "Epoch 93/100\n",
            "53/53 [==============================] - 0s 3ms/step - loss: 0.0025 - mae: 0.0376 - mse: 0.0025 - val_loss: 0.0079 - val_mae: 0.0675 - val_mse: 0.0079\n",
            "Epoch 94/100\n",
            "53/53 [==============================] - 0s 3ms/step - loss: 0.0025 - mae: 0.0378 - mse: 0.0025 - val_loss: 0.0079 - val_mae: 0.0665 - val_mse: 0.0079\n",
            "Epoch 95/100\n",
            "53/53 [==============================] - 0s 3ms/step - loss: 0.0025 - mae: 0.0370 - mse: 0.0025 - val_loss: 0.0079 - val_mae: 0.0674 - val_mse: 0.0079\n",
            "Epoch 96/100\n",
            "53/53 [==============================] - 0s 3ms/step - loss: 0.0025 - mae: 0.0379 - mse: 0.0025 - val_loss: 0.0079 - val_mae: 0.0667 - val_mse: 0.0079\n",
            "Epoch 97/100\n",
            "53/53 [==============================] - 0s 4ms/step - loss: 0.0025 - mae: 0.0381 - mse: 0.0025 - val_loss: 0.0079 - val_mae: 0.0667 - val_mse: 0.0079\n",
            "Epoch 98/100\n",
            "53/53 [==============================] - 0s 4ms/step - loss: 0.0024 - mae: 0.0371 - mse: 0.0024 - val_loss: 0.0080 - val_mae: 0.0679 - val_mse: 0.0080\n",
            "Epoch 99/100\n",
            "53/53 [==============================] - 0s 3ms/step - loss: 0.0024 - mae: 0.0366 - mse: 0.0024 - val_loss: 0.0080 - val_mae: 0.0676 - val_mse: 0.0080\n",
            "Epoch 100/100\n",
            "53/53 [==============================] - 0s 4ms/step - loss: 0.0023 - mae: 0.0363 - mse: 0.0023 - val_loss: 0.0078 - val_mae: 0.0667 - val_mse: 0.0078\n"
          ]
        },
        {
          "output_type": "execute_result",
          "data": {
            "text/plain": [
              "<keras.src.callbacks.History at 0x7b86ce515750>"
            ]
          },
          "metadata": {},
          "execution_count": 147
        }
      ]
    },
    {
      "cell_type": "code",
      "source": [
        "maternal_fetal_Y_pred = maternal_fetal_model.predict(maternal_fetal_X_test)"
      ],
      "metadata": {
        "colab": {
          "base_uri": "https://localhost:8080/"
        },
        "id": "mBNFIGjKsSpi",
        "outputId": "4d831e54-1f7f-4c8c-b5ed-a7a79517c8a9"
      },
      "execution_count": null,
      "outputs": [
        {
          "output_type": "stream",
          "name": "stdout",
          "text": [
            "14/14 [==============================] - 0s 2ms/step\n"
          ]
        }
      ]
    },
    {
      "cell_type": "code",
      "source": [
        "print(maternal_fetal_Y_pred)"
      ],
      "metadata": {
        "colab": {
          "base_uri": "https://localhost:8080/"
        },
        "id": "JaLdFYvpsnx-",
        "outputId": "f39af294-609a-43e7-ccd4-8e95d5b306e5"
      },
      "execution_count": null,
      "outputs": [
        {
          "output_type": "stream",
          "name": "stdout",
          "text": [
            "[[0.8743919 ]\n",
            " [0.6523831 ]\n",
            " [0.7721001 ]\n",
            " [0.6930785 ]\n",
            " [0.784371  ]\n",
            " [0.6869591 ]\n",
            " [0.7855297 ]\n",
            " [0.8861874 ]\n",
            " [0.58969843]\n",
            " [0.96369064]\n",
            " [0.89086443]\n",
            " [0.6655473 ]\n",
            " [0.76731515]\n",
            " [0.7067877 ]\n",
            " [0.8726127 ]\n",
            " [0.5325791 ]\n",
            " [0.7949472 ]\n",
            " [0.6653547 ]\n",
            " [0.8657306 ]\n",
            " [0.8926094 ]\n",
            " [0.9729534 ]\n",
            " [0.72596854]\n",
            " [0.94901365]\n",
            " [0.97038263]\n",
            " [0.5804515 ]\n",
            " [0.9033298 ]\n",
            " [0.70717233]\n",
            " [0.8858016 ]\n",
            " [0.8385831 ]\n",
            " [0.7113851 ]\n",
            " [0.73041004]\n",
            " [0.7420931 ]\n",
            " [0.79962415]\n",
            " [0.7019292 ]\n",
            " [0.6743801 ]\n",
            " [0.6960992 ]\n",
            " [0.71466583]\n",
            " [0.7413292 ]\n",
            " [0.6216413 ]\n",
            " [0.69183594]\n",
            " [0.9454038 ]\n",
            " [0.5676778 ]\n",
            " [0.95992523]\n",
            " [0.6068243 ]\n",
            " [0.94079745]\n",
            " [0.7875306 ]\n",
            " [0.59982395]\n",
            " [0.656854  ]\n",
            " [0.7193363 ]\n",
            " [0.8958995 ]\n",
            " [0.90436286]\n",
            " [0.96375424]\n",
            " [0.873712  ]\n",
            " [0.68841493]\n",
            " [0.815857  ]\n",
            " [0.74285334]\n",
            " [0.73026854]\n",
            " [0.690982  ]\n",
            " [0.7309722 ]\n",
            " [0.7735265 ]\n",
            " [0.62724876]\n",
            " [0.9278874 ]\n",
            " [0.67963713]\n",
            " [0.77074045]\n",
            " [0.9628851 ]\n",
            " [0.71821594]\n",
            " [0.68219066]\n",
            " [0.6753199 ]\n",
            " [0.85721713]\n",
            " [0.5912059 ]\n",
            " [0.7591182 ]\n",
            " [0.9647129 ]\n",
            " [0.8698772 ]\n",
            " [0.5969646 ]\n",
            " [0.77272713]\n",
            " [0.6349564 ]\n",
            " [0.8778267 ]\n",
            " [0.6904755 ]\n",
            " [0.55091083]\n",
            " [0.65320396]\n",
            " [0.775484  ]\n",
            " [0.8629683 ]\n",
            " [0.8725557 ]\n",
            " [0.96145135]\n",
            " [0.94403857]\n",
            " [0.62457067]\n",
            " [0.97210467]\n",
            " [0.7347145 ]\n",
            " [0.63217694]\n",
            " [0.7302794 ]\n",
            " [0.5919431 ]\n",
            " [0.99509484]\n",
            " [0.8232307 ]\n",
            " [0.70298624]\n",
            " [0.85854316]\n",
            " [0.9869438 ]\n",
            " [0.89965487]\n",
            " [0.76957554]\n",
            " [0.9911069 ]\n",
            " [0.9202114 ]\n",
            " [0.71871907]\n",
            " [0.782861  ]\n",
            " [0.7141117 ]\n",
            " [0.7460266 ]\n",
            " [0.9737484 ]\n",
            " [0.9719473 ]\n",
            " [0.9792293 ]\n",
            " [0.49476424]\n",
            " [0.5974006 ]\n",
            " [0.81164896]\n",
            " [0.57037723]\n",
            " [0.63111365]\n",
            " [0.55845404]\n",
            " [0.7824814 ]\n",
            " [0.97414607]\n",
            " [0.50376815]\n",
            " [0.6108074 ]\n",
            " [0.68892854]\n",
            " [0.6791529 ]\n",
            " [0.5025368 ]\n",
            " [0.8035115 ]\n",
            " [0.63574195]\n",
            " [0.8935691 ]\n",
            " [0.6742766 ]\n",
            " [0.5664382 ]\n",
            " [0.7648759 ]\n",
            " [0.7835079 ]\n",
            " [0.79476565]\n",
            " [0.6103381 ]\n",
            " [0.63282174]\n",
            " [0.7900501 ]\n",
            " [0.98766327]\n",
            " [0.66919565]\n",
            " [0.83584225]\n",
            " [0.94477725]\n",
            " [0.9638987 ]\n",
            " [0.8397097 ]\n",
            " [0.8076678 ]\n",
            " [0.9236951 ]\n",
            " [0.9134157 ]\n",
            " [0.76559335]\n",
            " [0.8813212 ]\n",
            " [0.63030785]\n",
            " [0.8302412 ]\n",
            " [0.65018517]\n",
            " [0.8180128 ]\n",
            " [0.78948647]\n",
            " [0.89671695]\n",
            " [0.9500427 ]\n",
            " [0.9690373 ]\n",
            " [0.6335551 ]\n",
            " [0.6078884 ]\n",
            " [0.69893396]\n",
            " [0.70933986]\n",
            " [0.71447533]\n",
            " [0.80555654]\n",
            " [0.80733347]\n",
            " [0.60826516]\n",
            " [0.5759413 ]\n",
            " [0.8660739 ]\n",
            " [0.73128724]\n",
            " [0.7900196 ]\n",
            " [0.82825965]\n",
            " [0.94380903]\n",
            " [0.54761916]\n",
            " [0.591141  ]\n",
            " [0.5412742 ]\n",
            " [0.9311125 ]\n",
            " [0.84704965]\n",
            " [0.9040478 ]\n",
            " [0.92222273]\n",
            " [0.841635  ]\n",
            " [0.76423466]\n",
            " [0.7831592 ]\n",
            " [0.97203493]\n",
            " [0.9618266 ]\n",
            " [0.9520791 ]\n",
            " [0.76054674]\n",
            " [0.7306151 ]\n",
            " [0.56762946]\n",
            " [0.8561529 ]\n",
            " [0.88863105]\n",
            " [0.91745734]\n",
            " [0.8858962 ]\n",
            " [0.74024355]\n",
            " [0.81611717]\n",
            " [0.9020153 ]\n",
            " [0.8973806 ]\n",
            " [0.67364997]\n",
            " [0.97234267]\n",
            " [0.8688355 ]\n",
            " [0.9070195 ]\n",
            " [0.6299006 ]\n",
            " [0.9291272 ]\n",
            " [0.79638463]\n",
            " [0.9634102 ]\n",
            " [0.761842  ]\n",
            " [0.8296263 ]\n",
            " [0.98378325]\n",
            " [0.58049524]\n",
            " [0.96960616]\n",
            " [0.9377831 ]\n",
            " [0.60340285]\n",
            " [0.91568315]\n",
            " [0.8352004 ]\n",
            " [0.9447711 ]\n",
            " [0.88433135]\n",
            " [0.5703617 ]\n",
            " [0.9277162 ]\n",
            " [0.977167  ]\n",
            " [0.98736566]\n",
            " [0.86006474]\n",
            " [0.66431713]\n",
            " [0.68802565]\n",
            " [0.810294  ]\n",
            " [0.9384868 ]\n",
            " [0.905663  ]\n",
            " [0.7880635 ]\n",
            " [0.78842705]\n",
            " [0.6389503 ]\n",
            " [0.62082756]\n",
            " [0.7610813 ]\n",
            " [0.68773943]\n",
            " [0.764693  ]\n",
            " [0.88244873]\n",
            " [0.80124015]\n",
            " [0.7091296 ]\n",
            " [0.52212805]\n",
            " [0.66996604]\n",
            " [0.7937523 ]\n",
            " [0.6102326 ]\n",
            " [0.87622195]\n",
            " [0.84598905]\n",
            " [0.8485795 ]\n",
            " [0.58920395]\n",
            " [0.60627997]\n",
            " [0.7711689 ]\n",
            " [0.59573483]\n",
            " [0.8276843 ]\n",
            " [0.60981876]\n",
            " [0.58789045]\n",
            " [0.6654237 ]\n",
            " [0.9469897 ]\n",
            " [0.663551  ]\n",
            " [0.9351878 ]\n",
            " [0.92234135]\n",
            " [0.85517097]\n",
            " [0.67140555]\n",
            " [0.7679466 ]\n",
            " [0.69132996]\n",
            " [0.7677598 ]\n",
            " [0.77135205]\n",
            " [0.9655977 ]\n",
            " [0.49519455]\n",
            " [0.9149739 ]\n",
            " [0.64526814]\n",
            " [0.81790054]\n",
            " [0.6575724 ]\n",
            " [0.7259356 ]\n",
            " [0.62825304]\n",
            " [0.6092547 ]\n",
            " [0.62679636]\n",
            " [0.6703957 ]\n",
            " [0.9643247 ]\n",
            " [0.7752952 ]\n",
            " [0.75295234]\n",
            " [0.69470865]\n",
            " [0.6969909 ]\n",
            " [0.65815294]\n",
            " [0.96680486]\n",
            " [0.6656598 ]\n",
            " [0.97034836]\n",
            " [0.9784016 ]\n",
            " [0.7619836 ]\n",
            " [0.8336024 ]\n",
            " [0.75196075]\n",
            " [0.9071521 ]\n",
            " [0.89431816]\n",
            " [0.5356984 ]\n",
            " [0.9124997 ]\n",
            " [0.7425221 ]\n",
            " [0.7613178 ]\n",
            " [0.99654   ]\n",
            " [0.87810266]\n",
            " [0.7987817 ]\n",
            " [0.7739813 ]\n",
            " [0.5488213 ]\n",
            " [0.769124  ]\n",
            " [0.72654206]\n",
            " [0.9515385 ]\n",
            " [0.89939797]\n",
            " [0.875459  ]\n",
            " [0.7454087 ]\n",
            " [0.86259335]\n",
            " [0.78387475]\n",
            " [0.9025246 ]\n",
            " [0.91929823]\n",
            " [0.72216547]\n",
            " [0.97365075]\n",
            " [0.74950093]\n",
            " [0.49886987]\n",
            " [0.77406126]\n",
            " [0.86450493]\n",
            " [0.81958014]\n",
            " [0.69226736]\n",
            " [0.6770754 ]\n",
            " [0.6356335 ]\n",
            " [0.6178967 ]\n",
            " [0.6862108 ]\n",
            " [0.9168251 ]\n",
            " [0.85832965]\n",
            " [0.92569363]\n",
            " [0.65633786]\n",
            " [0.8692022 ]\n",
            " [0.6324144 ]\n",
            " [0.7543959 ]\n",
            " [0.66687834]\n",
            " [0.67499024]\n",
            " [0.7430349 ]\n",
            " [0.97382426]\n",
            " [0.9164971 ]\n",
            " [0.89223814]\n",
            " [0.5715087 ]\n",
            " [0.96034276]\n",
            " [0.976622  ]\n",
            " [0.9277942 ]\n",
            " [0.72207093]\n",
            " [0.58286107]\n",
            " [0.8619823 ]\n",
            " [0.98701465]\n",
            " [0.61864936]\n",
            " [0.7731464 ]\n",
            " [0.6295279 ]\n",
            " [0.74195945]\n",
            " [0.9325326 ]\n",
            " [0.84361523]\n",
            " [0.6753299 ]\n",
            " [0.82005197]\n",
            " [0.6425305 ]\n",
            " [0.51939774]\n",
            " [0.6502147 ]\n",
            " [0.9369807 ]\n",
            " [0.820414  ]\n",
            " [0.67529035]\n",
            " [0.5554738 ]\n",
            " [0.6496297 ]\n",
            " [0.48643   ]\n",
            " [0.81084406]\n",
            " [0.8857199 ]\n",
            " [0.93105745]\n",
            " [0.7664094 ]\n",
            " [0.7730325 ]\n",
            " [0.64506346]\n",
            " [0.6430872 ]\n",
            " [0.7068224 ]\n",
            " [0.6905878 ]\n",
            " [0.7371066 ]\n",
            " [0.7851867 ]\n",
            " [0.811383  ]\n",
            " [0.8926407 ]\n",
            " [0.8850533 ]\n",
            " [0.6707002 ]\n",
            " [0.80790377]\n",
            " [0.86924845]\n",
            " [0.7900196 ]\n",
            " [0.67396206]\n",
            " [0.9832167 ]\n",
            " [0.6698684 ]\n",
            " [0.62320024]\n",
            " [0.90128225]\n",
            " [0.62811273]\n",
            " [0.64695257]\n",
            " [0.65705127]\n",
            " [0.7615957 ]\n",
            " [0.8549793 ]\n",
            " [0.96792024]\n",
            " [0.68660474]\n",
            " [0.6213683 ]\n",
            " [0.9141756 ]\n",
            " [0.7555829 ]\n",
            " [0.6013514 ]\n",
            " [0.9570934 ]\n",
            " [0.78527224]\n",
            " [0.67922217]\n",
            " [0.9746412 ]\n",
            " [0.9331063 ]\n",
            " [0.82055444]\n",
            " [0.5739764 ]\n",
            " [0.9929942 ]\n",
            " [0.8618001 ]\n",
            " [0.72665   ]\n",
            " [0.8725757 ]\n",
            " [0.547274  ]\n",
            " [0.65807074]\n",
            " [0.9861817 ]\n",
            " [0.63902664]\n",
            " [0.8228611 ]\n",
            " [0.78006417]\n",
            " [0.824787  ]\n",
            " [0.65901655]\n",
            " [0.91495585]\n",
            " [0.9518276 ]\n",
            " [0.7856429 ]\n",
            " [0.6948289 ]\n",
            " [0.79284126]\n",
            " [0.48501354]\n",
            " [0.8144269 ]\n",
            " [0.72613716]\n",
            " [0.7097609 ]\n",
            " [0.92459804]\n",
            " [0.75584173]\n",
            " [0.8786936 ]\n",
            " [0.79515344]\n",
            " [0.7497274 ]\n",
            " [0.88275576]\n",
            " [0.9954984 ]\n",
            " [0.80127525]\n",
            " [0.89222586]\n",
            " [0.73924005]\n",
            " [0.59606653]\n",
            " [0.69260323]\n",
            " [0.63432217]\n",
            " [0.7204991 ]\n",
            " [0.7786444 ]\n",
            " [0.7798783 ]\n",
            " [0.75959784]\n",
            " [0.8396181 ]\n",
            " [0.75102776]\n",
            " [0.6549418 ]\n",
            " [0.7721567 ]\n",
            " [0.6968501 ]\n",
            " [0.9890313 ]\n",
            " [0.5805341 ]\n",
            " [0.4775795 ]\n",
            " [0.7727772 ]\n",
            " [0.71093756]\n",
            " [0.87142694]\n",
            " [0.61134744]\n",
            " [0.71693945]\n",
            " [0.64945626]\n",
            " [0.6222749 ]\n",
            " [0.58113176]\n",
            " [0.58619744]\n",
            " [0.7464034 ]\n",
            " [0.83641756]\n",
            " [0.65734833]\n",
            " [0.83867985]]\n"
          ]
        }
      ]
    },
    {
      "cell_type": "markdown",
      "source": [
        "##Prediction Function\n",
        "A custom function that takes user input (both maternal and fetal), preprocesses it, and predicts the final risk score using the stacked model."
      ],
      "metadata": {
        "id": "0hXVhJrnTyKg"
      }
    },
    {
      "cell_type": "code",
      "source": [
        "def stacking(fetal,maternal):\n",
        "  maternal= scaler.transform(maternal)\n",
        "  fetal=scaler1.transform(fetal)\n",
        "  maternal_fetal_data=np.concatenate((maternal,fetal), axis=1)\n",
        "  maternal_fetal_result=maternal_fetal_model.predict(maternal_fetal_data)\n",
        "  print(maternal_fetal_result)\n",
        "fetal=[[120,0,0,0,0,0,0,73,0.5,43,2.4,64,62,126,2,0,120,137,121,73,1]]\n",
        "maternal=[[90,10,20,10,10,7]]\n",
        "stacking(fetal,maternal)\n",
        "\n",
        "\n"
      ],
      "metadata": {
        "colab": {
          "base_uri": "https://localhost:8080/"
        },
        "id": "uv1zbTLhsuAl",
        "outputId": "37f96732-4633-4704-df1f-f66fb4641f11"
      },
      "execution_count": null,
      "outputs": [
        {
          "output_type": "stream",
          "name": "stdout",
          "text": [
            "1/1 [==============================] - 0s 38ms/step\n",
            "[[0.9440265]]\n"
          ]
        },
        {
          "output_type": "stream",
          "name": "stderr",
          "text": [
            "/usr/local/lib/python3.10/dist-packages/sklearn/base.py:439: UserWarning: X does not have valid feature names, but StandardScaler was fitted with feature names\n",
            "  warnings.warn(\n",
            "/usr/local/lib/python3.10/dist-packages/sklearn/base.py:439: UserWarning: X does not have valid feature names, but StandardScaler was fitted with feature names\n",
            "  warnings.warn(\n"
          ]
        }
      ]
    }
  ]
}